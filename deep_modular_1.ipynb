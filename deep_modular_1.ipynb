{
 "cells": [
  {
   "cell_type": "markdown",
   "metadata": {},
   "source": [
    "## Data"
   ]
  },
  {
   "cell_type": "code",
   "execution_count": 10,
   "metadata": {},
   "outputs": [],
   "source": [
    "import numpy as np\n",
    "import pandas as pd\n",
    "import matplotlib.pyplot as plt\n",
    "import os\n",
    "from PIL import Image\n",
    "\n",
    "import torch \n",
    "import torch.nn as nn\n",
    "import torch.nn.functional as F\n",
    "import torchvision\n",
    "import torchvision.transforms as transforms\n",
    "from sklearn.model_selection import train_test_split\n",
    "\n",
    "torch.manual_seed(11)\n",
    "\n",
    "def crop(X):\n",
    "    res = np.zeros((len(X), len(X[0]), 300, 300))\n",
    "    for p in range(len(X)):\n",
    "        for s in range(len(X[p])):\n",
    "            for i in range(106, 406):\n",
    "                res[p][s][i - 106] = X[p][s][i][106:406]\n",
    "    return res\n",
    "\n",
    "\n",
    "# MRIs\n",
    "X = np.load('small_data.npy')\n",
    "X = crop(X)\n",
    "\n",
    "\n",
    "# labels\n",
    "y = pd.read_csv('all_target.csv')\n",
    "y.columns = ['y']\n",
    "\n",
    "# devide into 2 classes: no cut / cut - (0 / 1)\n",
    "y = np.where(y.y <= 3, 0, 1)"
   ]
  },
  {
   "cell_type": "markdown",
   "metadata": {},
   "source": [
    "## Leave 22% of entire patient MRI sets untouched for testing\n",
    "\n",
    "18 of 81 patients (9 from each group) are removed in order to test the multi-modular model."
   ]
  },
  {
   "cell_type": "code",
   "execution_count": 11,
   "metadata": {},
   "outputs": [
    {
     "name": "stdout",
     "output_type": "stream",
     "text": [
      "X shape = (71, 10, 300, 300)\n",
      "X Frozen shape = (10, 10, 300, 300)\n"
     ]
    }
   ],
   "source": [
    "# Find all ill and healthy indeces\n",
    "ill_inds = np.argwhere(y==0).flatten()\n",
    "hea_inds = np.argwhere(y==1).flatten()\n",
    "\n",
    "# Choose 9 from each group for further testing \n",
    "ill_test_inds = np.random.choice(ill_inds, 3, replace=False)\n",
    "hea_test_inds = np.random.choice(hea_inds, 7, replace=False)\n",
    "\n",
    "test_inds = [*ill_test_inds, *hea_test_inds]\n",
    "train_inds = [i for i in range(len(y)) if i not in test_inds]\n",
    "\n",
    "X_TEST = X[test_inds]\n",
    "Y_TEST = y[test_inds]\n",
    "\n",
    "# leave the rest and use as the main data\n",
    "X = X[train_inds]\n",
    "y = y[train_inds]\n",
    "\n",
    "print(f'X shape = {X.shape}')\n",
    "print(f'X Frozen shape = {X_TEST.shape}')"
   ]
  },
  {
   "cell_type": "markdown",
   "metadata": {},
   "source": [
    "## SMOTE Balance"
   ]
  },
  {
   "cell_type": "code",
   "execution_count": 13,
   "metadata": {},
   "outputs": [
    {
     "data": {
      "text/plain": [
       "(array([0, 1]), array([65,  6]))"
      ]
     },
     "execution_count": 13,
     "metadata": {},
     "output_type": "execute_result"
    }
   ],
   "source": [
    "np.unique(y, return_counts=True)"
   ]
  },
  {
   "cell_type": "code",
   "execution_count": 21,
   "metadata": {},
   "outputs": [
    {
     "data": {
      "text/plain": [
       "10"
      ]
     },
     "execution_count": 21,
     "metadata": {},
     "output_type": "execute_result"
    }
   ],
   "source": [
    "len(X_TEST)"
   ]
  },
  {
   "cell_type": "code",
   "execution_count": 15,
   "metadata": {},
   "outputs": [
    {
     "data": {
      "text/plain": [
       "(array([0, 1]), array([650, 650]))"
      ]
     },
     "execution_count": 15,
     "metadata": {},
     "output_type": "execute_result"
    }
   ],
   "source": [
    "import imblearn\n",
    "from imblearn.over_sampling import SMOTE\n",
    "\n",
    "sm = SMOTE(random_state=42)\n",
    "\n",
    "X_temp = X.reshape((710, -1))\n",
    "y_temp = np.array([[i]*10 for i in y]).reshape((710, -1))\n",
    "\n",
    "X_smote, y_smote = sm.fit_resample(X_temp, y_temp)\n",
    "\n",
    "np.unique(y_smote, return_counts=True)"
   ]
  },
  {
   "cell_type": "markdown",
   "metadata": {},
   "source": [
    "## Transformation"
   ]
  },
  {
   "cell_type": "code",
   "execution_count": 22,
   "metadata": {},
   "outputs": [],
   "source": [
    "# train-test split\n",
    "X_train, X_test, y_train, y_test = train_test_split(X_smote, y_smote, test_size=0.33, random_state=42)\n",
    "\n",
    "# count classes\n",
    "print(f'Class counts in test data: {np.unique(y_test, return_counts=True)}')\n",
    "print(f'X_train shape: {X_train.shape}, X_test shape: {X_test.shape}')\n",
    "\n",
    "# From numpy to torch\n",
    "X = torch.from_numpy(X).to(torch.float32)\n",
    "y = torch.from_numpy(y)\n",
    "\n",
    "X_train = torch.from_numpy(X_train).to(torch.float32)\n",
    "X_test = torch.from_numpy(X_test).to(torch.float32)\n",
    "y_test = torch.from_numpy(y_test)\n",
    "\n",
    "X_TEST = torch.from_numpy(X_TEST)\n",
    "Y_TEST = torch.from_numpy(Y_TEST)\n",
    "\n",
    "# Reshaping\n",
    "X_train = X_train.unsqueeze(1).reshape((871, 1, 300, 300))\n",
    "X_test = X_test.unsqueeze(1).reshape((429, 1, 300, 300))\n",
    "\n",
    "X_TEST = X_TEST.unsqueeze(1).reshape((100, 1, 300, 300))\n",
    "Y_TEST = torch.tensor([[i]*10 for i in Y_TEST])\n",
    "Y_TEST = Y_TEST.flatten()"
   ]
  },
  {
   "cell_type": "markdown",
   "metadata": {},
   "source": [
    "## Model Part 1: CNN"
   ]
  },
  {
   "cell_type": "code",
   "execution_count": 23,
   "metadata": {},
   "outputs": [],
   "source": [
    "class deep_simple(nn.Module):\n",
    "    def __init__(self, batch_size):\n",
    "        super().__init__()\n",
    "        \n",
    "        self.batch_size = batch_size\n",
    "        \n",
    "        self.conv_layers = nn.Sequential(\n",
    "            nn.Conv2d(in_channels=1, out_channels=6, kernel_size=5),\n",
    "            nn.ReLU(),\n",
    "            nn.Conv2d(in_channels=6, out_channels=16, kernel_size=5),\n",
    "            nn.ReLU(),\n",
    "            nn.MaxPool2d(2, 2)\n",
    "        )\n",
    "        \n",
    "        self.class_layers = nn.Sequential(\n",
    "            nn.Linear(16*146*146, 1000),\n",
    "            nn.ReLU(),\n",
    "            nn.Linear(1000, 100),\n",
    "            nn.Linear(100, 10),\n",
    "            nn.Linear(10, 2)\n",
    "        )\n",
    "        \n",
    "    def forward(self, x):\n",
    "        x = self.conv_layers(x)\n",
    "        x = self.class_layers(x.reshape((self.batch_size, -1, 16*146*146)))\n",
    "        \n",
    "        return x"
   ]
  },
  {
   "cell_type": "code",
   "execution_count": 9,
   "metadata": {},
   "outputs": [
    {
     "data": {
      "text/plain": [
       "torch.Size([790, 1, 300, 300])"
      ]
     },
     "execution_count": 9,
     "metadata": {},
     "output_type": "execute_result"
    }
   ],
   "source": [
    "X_train.shape"
   ]
  },
  {
   "cell_type": "code",
   "execution_count": 7,
   "metadata": {
    "scrolled": true
   },
   "outputs": [
    {
     "data": {
      "text/plain": [
       "(array([0, 1]), array([384, 406]))"
      ]
     },
     "execution_count": 7,
     "metadata": {},
     "output_type": "execute_result"
    }
   ],
   "source": [
    "np.unique(y_train, return_counts=True)"
   ]
  },
  {
   "cell_type": "markdown",
   "metadata": {},
   "source": [
    "## Training & Validation"
   ]
  },
  {
   "cell_type": "code",
   "execution_count": 24,
   "metadata": {},
   "outputs": [],
   "source": [
    "# Batches\n",
    "batch_size = 10\n",
    "\n",
    "# X_train\n",
    "X_train_loader = torch.utils.data.DataLoader(\n",
    "    X_train,\n",
    "    batch_size=batch_size\n",
    ")\n",
    "\n",
    "# y_train\n",
    "y_train_loader = torch.utils.data.DataLoader(\n",
    "    y_train,\n",
    "    batch_size=batch_size\n",
    ")"
   ]
  },
  {
   "cell_type": "code",
   "execution_count": 7,
   "metadata": {},
   "outputs": [
    {
     "name": "stdout",
     "output_type": "stream",
     "text": [
      "torch.Size([10, 1, 300, 300])\n"
     ]
    }
   ],
   "source": [
    "for i in X_train_loader:\n",
    "    print(i.shape)\n",
    "    break"
   ]
  },
  {
   "cell_type": "code",
   "execution_count": 8,
   "metadata": {},
   "outputs": [
    {
     "data": {
      "text/plain": [
       "(790,)"
      ]
     },
     "execution_count": 8,
     "metadata": {},
     "output_type": "execute_result"
    }
   ],
   "source": [
    "y_train.shape"
   ]
  },
  {
   "cell_type": "code",
   "execution_count": 38,
   "metadata": {
    "scrolled": true
   },
   "outputs": [
    {
     "name": "stdout",
     "output_type": "stream",
     "text": [
      "loss = 1.4309\n"
     ]
    },
    {
     "ename": "RuntimeError",
     "evalue": "shape '[10, -1, 341056]' is invalid for input of size 146313024",
     "output_type": "error",
     "traceback": [
      "\u001b[0;31m---------------------------------------------------------------------------\u001b[0m",
      "\u001b[0;31mRuntimeError\u001b[0m                              Traceback (most recent call last)",
      "\u001b[0;32m<ipython-input-38-fdd893e08bf3>\u001b[0m in \u001b[0;36m<module>\u001b[0;34m\u001b[0m\n\u001b[1;32m     37\u001b[0m             \u001b[0;31m# testing\u001b[0m\u001b[0;34m\u001b[0m\u001b[0;34m\u001b[0m\u001b[0;34m\u001b[0m\u001b[0m\n\u001b[1;32m     38\u001b[0m             \u001b[0;32mwith\u001b[0m \u001b[0mtorch\u001b[0m\u001b[0;34m.\u001b[0m\u001b[0mno_grad\u001b[0m\u001b[0;34m(\u001b[0m\u001b[0;34m)\u001b[0m\u001b[0;34m:\u001b[0m\u001b[0;34m\u001b[0m\u001b[0;34m\u001b[0m\u001b[0m\n\u001b[0;32m---> 39\u001b[0;31m                 \u001b[0mtest_preds\u001b[0m \u001b[0;34m=\u001b[0m \u001b[0mds\u001b[0m\u001b[0;34m(\u001b[0m\u001b[0mX_test\u001b[0m\u001b[0;34m.\u001b[0m\u001b[0mto\u001b[0m\u001b[0;34m(\u001b[0m\u001b[0mtorch\u001b[0m\u001b[0;34m.\u001b[0m\u001b[0mfloat32\u001b[0m\u001b[0;34m)\u001b[0m\u001b[0;34m)\u001b[0m\u001b[0;34m.\u001b[0m\u001b[0mreshape\u001b[0m\u001b[0;34m(\u001b[0m\u001b[0;34m(\u001b[0m\u001b[0;36m429\u001b[0m\u001b[0;34m,\u001b[0m \u001b[0;34m-\u001b[0m\u001b[0;36m1\u001b[0m\u001b[0;34m)\u001b[0m\u001b[0;34m)\u001b[0m\u001b[0;34m\u001b[0m\u001b[0;34m\u001b[0m\u001b[0m\n\u001b[0m\u001b[1;32m     40\u001b[0m                 \u001b[0mcnt\u001b[0m \u001b[0;34m=\u001b[0m \u001b[0;36m0\u001b[0m\u001b[0;34m\u001b[0m\u001b[0;34m\u001b[0m\u001b[0m\n\u001b[1;32m     41\u001b[0m                 \u001b[0;32mfor\u001b[0m \u001b[0mi\u001b[0m\u001b[0;34m,\u001b[0m \u001b[0mpred\u001b[0m \u001b[0;32min\u001b[0m \u001b[0menumerate\u001b[0m\u001b[0;34m(\u001b[0m\u001b[0mtest_preds\u001b[0m\u001b[0;34m)\u001b[0m\u001b[0;34m:\u001b[0m\u001b[0;34m\u001b[0m\u001b[0;34m\u001b[0m\u001b[0m\n",
      "\u001b[0;32m/opt/anaconda3/lib/python3.7/site-packages/torch/nn/modules/module.py\u001b[0m in \u001b[0;36m_call_impl\u001b[0;34m(self, *input, **kwargs)\u001b[0m\n\u001b[1;32m    725\u001b[0m             \u001b[0mresult\u001b[0m \u001b[0;34m=\u001b[0m \u001b[0mself\u001b[0m\u001b[0;34m.\u001b[0m\u001b[0m_slow_forward\u001b[0m\u001b[0;34m(\u001b[0m\u001b[0;34m*\u001b[0m\u001b[0minput\u001b[0m\u001b[0;34m,\u001b[0m \u001b[0;34m**\u001b[0m\u001b[0mkwargs\u001b[0m\u001b[0;34m)\u001b[0m\u001b[0;34m\u001b[0m\u001b[0;34m\u001b[0m\u001b[0m\n\u001b[1;32m    726\u001b[0m         \u001b[0;32melse\u001b[0m\u001b[0;34m:\u001b[0m\u001b[0;34m\u001b[0m\u001b[0;34m\u001b[0m\u001b[0m\n\u001b[0;32m--> 727\u001b[0;31m             \u001b[0mresult\u001b[0m \u001b[0;34m=\u001b[0m \u001b[0mself\u001b[0m\u001b[0;34m.\u001b[0m\u001b[0mforward\u001b[0m\u001b[0;34m(\u001b[0m\u001b[0;34m*\u001b[0m\u001b[0minput\u001b[0m\u001b[0;34m,\u001b[0m \u001b[0;34m**\u001b[0m\u001b[0mkwargs\u001b[0m\u001b[0;34m)\u001b[0m\u001b[0;34m\u001b[0m\u001b[0;34m\u001b[0m\u001b[0m\n\u001b[0m\u001b[1;32m    728\u001b[0m         for hook in itertools.chain(\n\u001b[1;32m    729\u001b[0m                 \u001b[0m_global_forward_hooks\u001b[0m\u001b[0;34m.\u001b[0m\u001b[0mvalues\u001b[0m\u001b[0;34m(\u001b[0m\u001b[0;34m)\u001b[0m\u001b[0;34m,\u001b[0m\u001b[0;34m\u001b[0m\u001b[0;34m\u001b[0m\u001b[0m\n",
      "\u001b[0;32m<ipython-input-23-bd850cd9c618>\u001b[0m in \u001b[0;36mforward\u001b[0;34m(self, x)\u001b[0m\n\u001b[1;32m     23\u001b[0m     \u001b[0;32mdef\u001b[0m \u001b[0mforward\u001b[0m\u001b[0;34m(\u001b[0m\u001b[0mself\u001b[0m\u001b[0;34m,\u001b[0m \u001b[0mx\u001b[0m\u001b[0;34m)\u001b[0m\u001b[0;34m:\u001b[0m\u001b[0;34m\u001b[0m\u001b[0;34m\u001b[0m\u001b[0m\n\u001b[1;32m     24\u001b[0m         \u001b[0mx\u001b[0m \u001b[0;34m=\u001b[0m \u001b[0mself\u001b[0m\u001b[0;34m.\u001b[0m\u001b[0mconv_layers\u001b[0m\u001b[0;34m(\u001b[0m\u001b[0mx\u001b[0m\u001b[0;34m)\u001b[0m\u001b[0;34m\u001b[0m\u001b[0;34m\u001b[0m\u001b[0m\n\u001b[0;32m---> 25\u001b[0;31m         \u001b[0mx\u001b[0m \u001b[0;34m=\u001b[0m \u001b[0mself\u001b[0m\u001b[0;34m.\u001b[0m\u001b[0mclass_layers\u001b[0m\u001b[0;34m(\u001b[0m\u001b[0mx\u001b[0m\u001b[0;34m.\u001b[0m\u001b[0mreshape\u001b[0m\u001b[0;34m(\u001b[0m\u001b[0;34m(\u001b[0m\u001b[0mself\u001b[0m\u001b[0;34m.\u001b[0m\u001b[0mbatch_size\u001b[0m\u001b[0;34m,\u001b[0m \u001b[0;34m-\u001b[0m\u001b[0;36m1\u001b[0m\u001b[0;34m,\u001b[0m \u001b[0;36m16\u001b[0m\u001b[0;34m*\u001b[0m\u001b[0;36m146\u001b[0m\u001b[0;34m*\u001b[0m\u001b[0;36m146\u001b[0m\u001b[0;34m)\u001b[0m\u001b[0;34m)\u001b[0m\u001b[0;34m)\u001b[0m\u001b[0;34m\u001b[0m\u001b[0;34m\u001b[0m\u001b[0m\n\u001b[0m\u001b[1;32m     26\u001b[0m \u001b[0;34m\u001b[0m\u001b[0m\n\u001b[1;32m     27\u001b[0m         \u001b[0;32mreturn\u001b[0m \u001b[0mx\u001b[0m\u001b[0;34m\u001b[0m\u001b[0;34m\u001b[0m\u001b[0m\n",
      "\u001b[0;31mRuntimeError\u001b[0m: shape '[10, -1, 341056]' is invalid for input of size 146313024"
     ]
    }
   ],
   "source": [
    "ds = deep_simple(batch_size)\n",
    "\n",
    "criterion = nn.CrossEntropyLoss()\n",
    "optim = torch.optim.Adam(ds.parameters(), lr=0.01)\n",
    "\n",
    "n_epochs = 100\n",
    "last_acc = 0.\n",
    "best_acc = 0.98\n",
    "cnt_s = 0\n",
    "\n",
    "losses = []\n",
    "acc_t = []\n",
    "acc_f = []\n",
    "samples = []\n",
    "\n",
    "for n in range(n_epochs):\n",
    "    \n",
    "    # training\n",
    "    y_train_iter = iter(y_train_loader)\n",
    "    cnt_0 = 0\n",
    "    \n",
    "    for sample in X_train_loader:\n",
    "        labels = next(y_train_iter)\n",
    "        preds = ds(sample.to(torch.float32)).view(batch_size, 2)\n",
    "        loss = criterion(preds, labels)\n",
    "        loss.backward()\n",
    "        \n",
    "        optim.step()\n",
    "        optim.zero_grad()\n",
    "        \n",
    "        cnt_0 += 1\n",
    "        if cnt_0 == 6:\n",
    "            print(f'loss = {round(loss.item(), 4)}')\n",
    "            losses.append(loss)\n",
    "            cnt_0 = 0\n",
    "            cnt_s += 1\n",
    "            # testing\n",
    "            with torch.no_grad():\n",
    "                test_preds = ds(X_test.to(torch.float32)).reshape((429, -1))\n",
    "                cnt = 0\n",
    "                for i, pred in enumerate(test_preds):\n",
    "                    cnt += torch.argmax(pred) == y_test[i]\n",
    "\n",
    "                acc = cnt / 390\n",
    "                acc_t.append(acc)\n",
    "                ss = 6 * cnt_s + 790 * n\n",
    "                samples.append(ss)\n",
    "                print(f'Samples seen: {ss}  Test Accuracy = {round(acc.item(), 5)}', end = '\\t')\n",
    "                \n",
    "                \n",
    "            #FROZEN\n",
    "            with torch.no_grad():\n",
    "                test_preds = ds(X_TEST.to(torch.float32)).reshape((100, -1))\n",
    "                tp = 0\n",
    "                tn = 0\n",
    "                fp = 0\n",
    "                fn = 0\n",
    "                for i, pred in enumerate(test_preds):\n",
    "                    if torch.argmax(pred) == Y_TEST[i]:\n",
    "                        if Y_TEST[i] == 1:\n",
    "                            tp += 1\n",
    "                        else:\n",
    "                            tn += 1\n",
    "\n",
    "                    else:\n",
    "                        if Y_TEST[i] == 1:\n",
    "                            fn += 1\n",
    "                        else:\n",
    "                            fp += 1\n",
    "\n",
    "                acc1 = (tp + tn) / 180\n",
    "                acc_f.append(acc1)\n",
    "                print(f'FROZEN Accuracy = {round(acc1, 5)}')\n",
    "#                 print(np.array([[tp, fp], [fn, tn]]))\n",
    "            \n",
    "            if best_acc < (acc + acc1)/2:\n",
    "                best_acc = (acc + acc1)/2\n",
    "                torch.save(ds.state_dict(), 'dm1_ds_v.3_dict.pth')\n",
    "       \n",
    "    # testing\n",
    "    with torch.no_grad():\n",
    "        test_preds = ds(X_test.to(torch.float32)).reshape((429, -1))\n",
    "        cnt = 0\n",
    "        for i, pred in enumerate(test_preds):\n",
    "            cnt += torch.argmax(pred) == y_test[i]\n",
    "\n",
    "        acc = cnt / 390\n",
    "        print(f'E{n+1}  Accuracy = {round(acc.item(), 5)}')\n",
    "    \n",
    "    if torch.abs(acc - last_acc) < 0.001:\n",
    "        break"
   ]
  },
  {
   "cell_type": "code",
   "execution_count": null,
   "metadata": {},
   "outputs": [],
   "source": [
    "# torch.save(ds.state_dict(), 'dm1_ds_dict.pth')"
   ]
  },
  {
   "cell_type": "code",
   "execution_count": 10,
   "metadata": {
    "scrolled": true
   },
   "outputs": [
    {
     "name": "stdout",
     "output_type": "stream",
     "text": [
      "Accuracy = 1.73889\n",
      "[[112   5]\n",
      " [ 72 201]]\n"
     ]
    }
   ],
   "source": [
    "model = deep_simple(10)\n",
    "model.load_state_dict(torch.load('dm1_ds_v.3_dict.pth'))\n",
    "model.eval()\n",
    "\n",
    "with torch.no_grad():\n",
    "    test_preds = model(X_test.to(torch.float32)).reshape((390, -1))\n",
    "    tp = 0\n",
    "    tn = 0\n",
    "    fp = 0\n",
    "    fn = 0\n",
    "    for i, pred in enumerate(test_preds):\n",
    "        if torch.argmax(pred) == y_test[i]:\n",
    "            if y_test[i] == 1:\n",
    "                tp += 1\n",
    "            else:\n",
    "                tn += 1\n",
    "        \n",
    "        else:\n",
    "            if y_test[i] == 1:\n",
    "                fn += 1\n",
    "            else:\n",
    "                fp += 1\n",
    "    \n",
    "    acc = (tp + tn) / 390\n",
    "    print(f'Accuracy = {round(acc, 5)}')\n",
    "    print(np.array([[tp, fp], [fn, tn]]))"
   ]
  },
  {
   "cell_type": "markdown",
   "metadata": {},
   "source": [
    "## Testing on frozen data "
   ]
  },
  {
   "cell_type": "code",
   "execution_count": 34,
   "metadata": {
    "scrolled": true
   },
   "outputs": [
    {
     "data": {
      "text/plain": [
       "(55, 55)"
      ]
     },
     "execution_count": 34,
     "metadata": {},
     "output_type": "execute_result"
    },
    {
     "data": {
      "image/png": "[encoded data removed]",
      "text/plain": [
       "<Figure size 432x288 with 1 Axes>"
      ]
     },
     "metadata": {
      "needs_background": "light"
     },
     "output_type": "display_data"
    }
   ],
   "source": [
    "# losses = [i.item() for i in losses]\n",
    "plt.plot(samples, losses[:-1])"
   ]
  },
  {
   "cell_type": "code",
   "execution_count": 35,
   "metadata": {},
   "outputs": [
    {
     "data": {
      "text/plain": [
       "[<matplotlib.lines.Line2D at 0x7fdc22877050>]"
      ]
     },
     "execution_count": 35,
     "metadata": {},
     "output_type": "execute_result"
    },
    {
     "data": {
      "image/png": "[encoded data removed]",
      "text/plain": [
       "<Figure size 432x288 with 1 Axes>"
      ]
     },
     "metadata": {
      "needs_background": "light"
     },
     "output_type": "display_data"
    }
   ],
   "source": [
    "plt.plot(samples, acc_t)"
   ]
  },
  {
   "cell_type": "code",
   "execution_count": 36,
   "metadata": {},
   "outputs": [
    {
     "data": {
      "text/plain": [
       "[<matplotlib.lines.Line2D at 0x7fdbf097e210>]"
      ]
     },
     "execution_count": 36,
     "metadata": {},
     "output_type": "execute_result"
    },
    {
     "data": {
      "image/png": "[encoded data removed]",
      "text/plain": [
       "<Figure size 432x288 with 1 Axes>"
      ]
     },
     "metadata": {
      "needs_background": "light"
     },
     "output_type": "display_data"
    }
   ],
   "source": [
    "plt.plot(samples, acc_f)"
   ]
  },
  {
   "cell_type": "code",
   "execution_count": null,
   "metadata": {},
   "outputs": [],
   "source": [
    "X_test.shape, X_TEST.shape"
   ]
  },
  {
   "cell_type": "code",
   "execution_count": null,
   "metadata": {},
   "outputs": [],
   "source": [
    "y_test.shape, Y_TEST.shape"
   ]
  },
  {
   "cell_type": "code",
   "execution_count": 11,
   "metadata": {},
   "outputs": [
    {
     "name": "stdout",
     "output_type": "stream",
     "text": [
      "Accuracy = 0.72222\n",
      "[[41  1]\n",
      " [49 89]]\n"
     ]
    }
   ],
   "source": [
    "with torch.no_grad():\n",
    "    test_preds = model(X_TEST.to(torch.float32)).reshape((180, -1))\n",
    "    tp = 0\n",
    "    tn = 0\n",
    "    fp = 0\n",
    "    fn = 0\n",
    "    for i, pred in enumerate(test_preds):\n",
    "        if torch.argmax(pred) == Y_TEST[i]:\n",
    "            if Y_TEST[i] == 1:\n",
    "                tp += 1\n",
    "            else:\n",
    "                tn += 1\n",
    "        \n",
    "        else:\n",
    "            if Y_TEST[i] == 1:\n",
    "                fn += 1\n",
    "            else:\n",
    "                fp += 1\n",
    "    \n",
    "    acc = (tp + tn) / 180\n",
    "    print(f'Accuracy = {round(acc, 5)}')\n",
    "    print(np.array([[tp, fp], [fn, tn]]))"
   ]
  },
  {
   "cell_type": "markdown",
   "metadata": {},
   "source": [
    "## Model Part 2: Multi-Modularity"
   ]
  },
  {
   "cell_type": "code",
   "execution_count": null,
   "metadata": {},
   "outputs": [],
   "source": [
    "# MMDS(ds, X_TEST, Y_TEST)"
   ]
  },
  {
   "cell_type": "code",
   "execution_count": null,
   "metadata": {},
   "outputs": [],
   "source": [
    "# torch.save(ds.state_dict(), 'MMDS_0_dict.pth')"
   ]
  },
  {
   "cell_type": "code",
   "execution_count": null,
   "metadata": {},
   "outputs": [],
   "source": [
    "ds_m = deep_simple(batch_size)\n",
    "ds_m.load_state_dict(torch.load('MMDS_0_dict.pth'))\n",
    "ds_m.eval()\n",
    "print()"
   ]
  },
  {
   "cell_type": "code",
   "execution_count": null,
   "metadata": {},
   "outputs": [],
   "source": [
    "class deep_mod(nn.Module):\n",
    "    def __init__(self):\n",
    "        super().__init__()\n",
    "        \n",
    "        self.class_layer = nn.Sequential(\n",
    "            nn.Linear(10, 1000),\n",
    "            nn.Linear(1000, 1000),\n",
    "            nn.Linear(1000, 100),\n",
    "            nn.Linear(100, 10),\n",
    "            nn.Linear(10, 2)\n",
    "        )\n",
    "        \n",
    "    def forward(self, x):\n",
    "        x = self.class_layer(x)\n",
    "        \n",
    "        return x"
   ]
  },
  {
   "cell_type": "code",
   "execution_count": null,
   "metadata": {},
   "outputs": [],
   "source": []
  },
  {
   "cell_type": "code",
   "execution_count": null,
   "metadata": {
    "scrolled": true
   },
   "outputs": [],
   "source": [
    "ds = deep_simple(batch_size)\n",
    "ds.load_state_dict(torch.load('full_MMDS_p1_dict.pth'))\n",
    "ds.eval()\n",
    "\n",
    "dm = deep_mod()\n",
    "dm.load_state_dict(torch.load('full_MMDS_p2_dict.pth'))\n",
    "dm.eval()\n",
    "\n",
    "best_acc = 0.84\n",
    "optim = torch.optim.Adam(dm.parameters(), lr=0.008)\n",
    "mod_cnt = 2\n",
    "for epoch in range(20):\n",
    "    print(f'Epoch: {epoch+1}\\t avg loss:', end = ' ')\n",
    "    losses = []\n",
    "    for i, x in enumerate(X.unsqueeze(2)):\n",
    "        pat = ds(x)\n",
    "        pat = pat.reshape(10, 2).argmax(axis=1)\n",
    "        pat = pat.reshape(-1, 10).to(torch.float32)\n",
    "        res = dm(pat)\n",
    "        label = y[i].flatten()\n",
    "        loss = criterion(res, label)\n",
    "        loss.backward()\n",
    "\n",
    "        optim.step()\n",
    "        optim.zero_grad()\n",
    "\n",
    "        losses.append(loss.item())\n",
    "    print(round(np.mean(losses), 4), end = '\\t')\n",
    "    \n",
    "    #TRAIN\n",
    "    acc = 0\n",
    "    c = 0\n",
    "    for i, x in enumerate(X.unsqueeze(2)):\n",
    "        pat = ds(x)\n",
    "        pat = pat.reshape(10, 2).argmax(axis=1)\n",
    "        pat = pat.reshape(-1, 10).to(torch.float32)\n",
    "        res = dm(pat).flatten().argmax()\n",
    "        label = y[i].flatten()\n",
    "        acc += (res == label[0])\n",
    "        c += 1\n",
    "    acc = round(acc.item()/c, 4)\n",
    "    print(f'train acc: {acc}', end = '\\t')\n",
    "        \n",
    "    # TEST\n",
    "    acc = 0\n",
    "    for i, x in enumerate(X_TEST.unsqueeze(2).to(torch.float32)):\n",
    "        pat = ds_m(x)\n",
    "        pat = pat.reshape(10, 2).argmax(axis=1)\n",
    "        pat = pat.reshape(-1, 10).to(torch.float32)\n",
    "        res = dm(pat).flatten().argmax()\n",
    "        label = Y_TEST[i].flatten()\n",
    "        # print(res, label[0])\n",
    "        acc += (res == label[0])\n",
    "    acc = round(acc.item()/18, 4)\n",
    "    print(f'test acc: {acc}')\n",
    "    \n",
    "    if acc > best_acc:\n",
    "        print(f'\\t \\t MAX !!!')\n",
    "        torch.save(dm.state_dict(), f'full_{mod_cnt}_MMDS_p2_dict.pth')\n",
    "        mod_cnt += 1"
   ]
  },
  {
   "cell_type": "code",
   "execution_count": null,
   "metadata": {},
   "outputs": [],
   "source": [
    "# torch.save(ds_m.state_dict(), 'full_MMDS_p1_dict.pth')"
   ]
  },
  {
   "cell_type": "code",
   "execution_count": null,
   "metadata": {},
   "outputs": [],
   "source": [
    "# torch.save(dm.state_dict(), 'full_MMDS_p2_dict.pth')"
   ]
  },
  {
   "cell_type": "code",
   "execution_count": null,
   "metadata": {},
   "outputs": [],
   "source": [
    "ds = deep_simple(batch_size)\n",
    "ds.load_state_dict(torch.load('full_MMDS_p1_dict.pth'))\n",
    "ds.eval()\n",
    "\n",
    "dm = deep_mod()\n",
    "dm.load_state_dict(torch.load('full_MMDS_p2_dict.pth'))\n",
    "dm.eval()"
   ]
  },
  {
   "cell_type": "code",
   "execution_count": null,
   "metadata": {},
   "outputs": [],
   "source": [
    "acc = 0\n",
    "for i, x in enumerate(X_TEST.unsqueeze(2).to(torch.float32)):\n",
    "    pat = ds_m(x)\n",
    "    pat = pat.reshape(10, 2).argmax(axis=1)\n",
    "    pat = pat.reshape(-1, 10).to(torch.float32)\n",
    "    res = dm(pat).flatten().argmax()\n",
    "    label = Y_TEST[i].flatten()\n",
    "    # print(res, label[0])\n",
    "    acc += (res == label[0])\n",
    "print(f'test acc: {acc/18}')"
   ]
  },
  {
   "cell_type": "markdown",
   "metadata": {},
   "source": [
    "## Testing prelearnt model"
   ]
  },
  {
   "cell_type": "code",
   "execution_count": null,
   "metadata": {},
   "outputs": [],
   "source": [
    "ds0 = deep_simple(batch_size)\n",
    "ds0.load_state_dict(torch.load('deep_simple_dict.pth'))\n",
    "ds0.eval()\n",
    "\n",
    "MMDS(ds0, X_TEST, Y_TEST)"
   ]
  },
  {
   "cell_type": "code",
   "execution_count": null,
   "metadata": {
    "scrolled": true
   },
   "outputs": [],
   "source": []
  },
  {
   "cell_type": "code",
   "execution_count": null,
   "metadata": {},
   "outputs": [],
   "source": []
  },
  {
   "cell_type": "code",
   "execution_count": null,
   "metadata": {},
   "outputs": [],
   "source": []
  },
  {
   "cell_type": "code",
   "execution_count": null,
   "metadata": {},
   "outputs": [],
   "source": []
  }
 ],
 "metadata": {
  "kernelspec": {
   "display_name": "Python 3",
   "language": "python",
   "name": "python3"
  },
  "language_info": {
   "codemirror_mode": {
    "name": "ipython",
    "version": 3
   },
   "file_extension": ".py",
   "mimetype": "text/x-python",
   "name": "python",
   "nbconvert_exporter": "python",
   "pygments_lexer": "ipython3",
   "version": "3.7.4"
  }
 },
 "nbformat": 4,
 "nbformat_minor": 2
}
