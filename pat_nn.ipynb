{
 "cells": [
  {
   "cell_type": "code",
   "execution_count": 1,
   "metadata": {
    "scrolled": true
   },
   "outputs": [],
   "source": [
    "import numpy as np\n",
    "import pandas as pd\n",
    "import matplotlib.pyplot as plt\n",
    "import os\n",
    "from PIL import Image\n",
    "\n",
    "import torch \n",
    "import torch.nn as nn\n",
    "import torch.nn.functional as F\n",
    "import torchvision\n",
    "import torchvision.transforms as transforms\n",
    "from sklearn.model_selection import train_test_split\n",
    "\n",
    "torch.manual_seed(11)\n",
    "\n",
    "def crop(X):\n",
    "    res = np.zeros((len(X), len(X[0]), 300, 300))\n",
    "    for p in range(len(X)):\n",
    "        for s in range(len(X[p])):\n",
    "            for i in range(106, 406):\n",
    "                res[p][s][i - 106] = X[p][s][i][106:406]\n",
    "    return res\n",
    "\n",
    "\n",
    "# MRIs\n",
    "X = np.load('small_data.npy')\n",
    "X = crop(X)\n",
    "\n",
    "\n",
    "# labels\n",
    "y = pd.read_csv('all_target.csv')\n",
    "y.columns = ['y']\n",
    "\n",
    "# devide into 2 classes: no cut / cut - (0 / 1)\n",
    "y = np.where(y.y <= 3, 0, 1)\n",
    "\n",
    "c, h = np.unique(y, return_counts=True)\n",
    "plt.bar(c, h);"
   ]
  },
  {
   "cell_type": "code",
   "execution_count": 2,
   "metadata": {},
   "outputs": [
    {
     "name": "stdout",
     "output_type": "stream",
     "text": [
      "(array([0, 1]), array([680, 680]))\n"
     ]
    },
    {
     "data": {
      "image/png": "[encoded data removed]",
      "text/plain": [
       "<Figure size 432x288 with 1 Axes>"
      ]
     },
     "metadata": {
      "needs_background": "light"
     },
     "output_type": "display_data"
    }
   ],
   "source": [
    "import imblearn\n",
    "from imblearn.over_sampling import SMOTE\n",
    "\n",
    "sm = SMOTE(random_state=45)\n",
    "\n",
    "X_temp = X.reshape((810, -1))\n",
    "y_temp = np.array([[i]*10 for i in y]).reshape((810, -1))\n",
    "\n",
    "X_smote, y_smote = sm.fit_resample(X_temp, y_temp)\n",
    "\n",
    "print(np.unique(y_smote, return_counts=True))\n",
    "\n",
    "X = X_smote.reshape((136, 10, 300, 300))\n",
    "y = []\n",
    "for i in range(0, 1360, 10):\n",
    "    y.append(y_smote[i])\n",
    "    \n",
    "    \n",
    "c, h = np.unique(y, return_counts=True)\n",
    "plt.bar(c, h, );"
   ]
  },
  {
   "cell_type": "code",
   "execution_count": 3,
   "metadata": {},
   "outputs": [],
   "source": [
    "X = torch.from_numpy(X).to(torch.float32).reshape((136, 10, 300, 300))\n",
    "y = torch.tensor(y).reshape((-1, 1))\n",
    "\n",
    "X_train, X_test, y_train, y_test = train_test_split(X, y, test_size=0.33, random_state=42)"
   ]
  },
  {
   "cell_type": "code",
   "execution_count": 9,
   "metadata": {},
   "outputs": [],
   "source": [
    "class pinn(nn.Module):\n",
    "    def __init__(self, batch_size):\n",
    "        super().__init__()\n",
    "        \n",
    "        self.batch_size = batch_size\n",
    "        \n",
    "        self.conv_layers = nn.Sequential(\n",
    "            nn.Conv2d(in_channels=10, out_channels=6, kernel_size=5),\n",
    "            nn.ReLU(),\n",
    "            nn.Conv2d(in_channels=6, out_channels=16, kernel_size=5),\n",
    "            nn.ReLU()\n",
    "        )\n",
    "        \n",
    "        self.class_layers = nn.Sequential(\n",
    "            nn.Linear(16*292**2, 500),\n",
    "            nn.ReLU(),\n",
    "            nn.Linear(500, 100),\n",
    "            nn.Linear(100, 10),\n",
    "            nn.Linear(10, 2)\n",
    "        )\n",
    "        \n",
    "    def forward(self, x):\n",
    "        x = self.conv_layers(x)\n",
    "        x = self.class_layers(x.reshape((self.batch_size, -1, 16*292**2)))\n",
    "        \n",
    "        return x.squeeze(1)"
   ]
  },
  {
   "cell_type": "code",
   "execution_count": 10,
   "metadata": {},
   "outputs": [],
   "source": [
    "# Batches\n",
    "batch_size = 1\n",
    "\n",
    "# X_train\n",
    "X_train_loader = torch.utils.data.DataLoader(\n",
    "    X_train,\n",
    "    batch_size=batch_size\n",
    ")\n",
    "\n",
    "# y_train\n",
    "y_train_loader = torch.utils.data.DataLoader(\n",
    "    y_train,\n",
    "    batch_size=batch_size\n",
    ")"
   ]
  },
  {
   "cell_type": "code",
   "execution_count": 12,
   "metadata": {
    "scrolled": true
   },
   "outputs": [
    {
     "name": "stdout",
     "output_type": "stream",
     "text": [
      "Epoch: 1\n",
      "Avg loss: 78167529.21739317\n",
      "Avg loss: 39083798.34045884\n",
      "Avg loss: 26055866.451215204\n",
      "Avg loss: 19541900.104265194\n",
      "Test accuracy: 0.6\n",
      "Avg loss: 15633520.239435913\n",
      "Avg loss: 13027933.650273856\n",
      "Avg loss: 11166800.363693269\n",
      "Avg loss: 9770950.39551365\n",
      "Avg loss: 8685289.317644428\n",
      "Test accuracy: 0.4\n",
      "Epoch: 2\n",
      "Avg loss: 0.8614369213581086\n",
      "Avg loss: 0.8123627096414566\n",
      "Avg loss: 0.7719606737295787\n",
      "Avg loss: 0.7482781022787094\n",
      "Test accuracy: 0.6\n",
      "Avg loss: 0.7461556875705719\n",
      "Avg loss: 0.7397640446821848\n",
      "Avg loss: 0.7272464454174041\n",
      "Avg loss: 0.71389724239707\n",
      "Avg loss: 0.7115962581502067\n",
      "Test accuracy: 0.4\n",
      "Epoch: 3\n",
      "Avg loss: 0.8605825781822205\n",
      "Avg loss: 0.8119062691926956\n",
      "Avg loss: 0.7716786881287893\n",
      "Avg loss: 0.7480709552764893\n",
      "Test accuracy: 0.6\n",
      "Avg loss: 0.7459871804714203\n",
      "Avg loss: 0.739603266119957\n",
      "Avg loss: 0.7270693804536547\n",
      "Avg loss: 0.7137304116040468\n",
      "Avg loss: 0.7114553146892124\n",
      "Test accuracy: 0.4\n",
      "Epoch: 4\n",
      "Avg loss: 0.8605812847614288\n",
      "Avg loss: 0.8119639039039612\n",
      "Avg loss: 0.7716595351696014\n",
      "Avg loss: 0.7480437517166137\n",
      "Test accuracy: 0.6\n",
      "Avg loss: 0.7459965527057648\n",
      "Avg loss: 0.7396006534496943\n",
      "Avg loss: 0.7270386108330318\n",
      "Avg loss: 0.7136939033865929\n",
      "Avg loss: 0.7114300204647912\n",
      "Test accuracy: 0.4\n"
     ]
    }
   ],
   "source": [
    "mod = pat_nn(batch_size)\n",
    "\n",
    "criterion = nn.CrossEntropyLoss()\n",
    "optim = torch.optim.Adam(mod.parameters(), lr=0.01)\n",
    "\n",
    "losses = []\n",
    "accs = []\n",
    "for epoch in range(1, 5):\n",
    "    print(f'Epoch: {epoch}')\n",
    "    y_train_iter = iter(y_train_loader)\n",
    "    loss_sum = 0\n",
    "    cnt = 0\n",
    "    for sample in X_train_loader:\n",
    "        cnt += 1\n",
    "        preds = mod(sample)\n",
    "        label = next(y_train_iter).flatten()\n",
    "        loss = criterion(preds, label)\n",
    "        loss.backward()\n",
    "        optim.step()\n",
    "        optim.zero_grad()\n",
    "        \n",
    "        loss_sum += loss.item()\n",
    "        \n",
    "        if cnt % 10 == 0:\n",
    "            av_loss = loss_sum / cnt\n",
    "            losses.append(av_loss)\n",
    "            print(f'Avg loss: {loss_sum / cnt}')\n",
    "            \n",
    "        if cnt == len(y_train) // 2:\n",
    "            with torch.no_grad():\n",
    "                tp = 0\n",
    "                fp = 0\n",
    "                fn = 0\n",
    "                tn = 0\n",
    "                for i, sample in enumerate(X_test):\n",
    "                    sample = sample.unsqueeze(0)\n",
    "\n",
    "                    preds = torch.argmax(mod(sample)).item()\n",
    "                    label = y_test[i].item()\n",
    "\n",
    "                    if preds == label:\n",
    "                        if label == 1:\n",
    "                            tp += 1\n",
    "                        else:\n",
    "                            tn += 1\n",
    "\n",
    "                    else:\n",
    "                        if label == 1:\n",
    "                            fn += 1\n",
    "                        else:\n",
    "                            fp += 1\n",
    "\n",
    "                acc = (tp + tn) / len(y_test)\n",
    "                accs.append(acc)\n",
    "                print(f'Test accuracy: {acc}')\n",
    "\n",
    "    losses.append(loss_sum / len(X_train))\n",
    "        \n",
    "    # test\n",
    "\n",
    "    with torch.no_grad():\n",
    "        tp = 0\n",
    "        fp = 0\n",
    "        fn = 0\n",
    "        tn = 0\n",
    "        for i, sample in enumerate(X_test):\n",
    "            sample = sample.unsqueeze(0)\n",
    "\n",
    "            preds = torch.argmax(mod(sample)).item()\n",
    "            label = y_test[i].item()\n",
    "\n",
    "            if preds == label:\n",
    "                if label == 1:\n",
    "                    tp += 1\n",
    "                else:\n",
    "                    tn += 1\n",
    "\n",
    "            else:\n",
    "                if label == 1:\n",
    "                    fn += 1\n",
    "                else:\n",
    "                    fp += 1\n",
    "\n",
    "        acc = (tp + tn) / len(y_test)\n",
    "        accs.append(acc)\n",
    "        print(f'Test accuracy: {acc}')"
   ]
  },
  {
   "cell_type": "code",
   "execution_count": 15,
   "metadata": {},
   "outputs": [
    {
     "data": {
      "text/plain": [
       "[<matplotlib.lines.Line2D at 0x7f9d885ac390>]"
      ]
     },
     "execution_count": 15,
     "metadata": {},
     "output_type": "execute_result"
    },
    {
     "data": {
      "image/png": "[encoded data removed]",
      "text/plain": [
       "<Figure size 432x288 with 1 Axes>"
      ]
     },
     "metadata": {
      "needs_background": "light"
     },
     "output_type": "display_data"
    }
   ],
   "source": [
    "losses\n",
    "\n",
    "plt.plot(range(len(losses)), losses)"
   ]
  },
  {
   "cell_type": "code",
   "execution_count": 24,
   "metadata": {},
   "outputs": [
    {
     "data": {
      "text/plain": [
       "[<matplotlib.lines.Line2D at 0x7f9da0118250>]"
      ]
     },
     "execution_count": 24,
     "metadata": {},
     "output_type": "execute_result"
    },
    {
     "data": {
      "image/png": "[encoded data removed]",
      "text/plain": [
       "<Figure size 432x288 with 1 Axes>"
      ]
     },
     "metadata": {
      "needs_background": "light"
     },
     "output_type": "display_data"
    }
   ],
   "source": [
    "plt.plot(np.linspace(0, 4, 8), accs)"
   ]
  },
  {
   "cell_type": "code",
   "execution_count": null,
   "metadata": {},
   "outputs": [],
   "source": []
  },
  {
   "cell_type": "code",
   "execution_count": null,
   "metadata": {},
   "outputs": [],
   "source": []
  },
  {
   "cell_type": "code",
   "execution_count": null,
   "metadata": {},
   "outputs": [],
   "source": []
  },
  {
   "cell_type": "code",
   "execution_count": null,
   "metadata": {},
   "outputs": [],
   "source": []
  }
 ],
 "metadata": {
  "kernelspec": {
   "display_name": "Python 3",
   "language": "python",
   "name": "python3"
  },
  "language_info": {
   "codemirror_mode": {
    "name": "ipython",
    "version": 3
   },
   "file_extension": ".py",
   "mimetype": "text/x-python",
   "name": "python",
   "nbconvert_exporter": "python",
   "pygments_lexer": "ipython3",
   "version": "3.7.4"
  }
 },
 "nbformat": 4,
 "nbformat_minor": 2
}
