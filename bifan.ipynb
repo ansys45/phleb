{
  "nbformat": 4,
  "nbformat_minor": 0,
  "metadata": {
    "colab": {
      "name": "nikita_bif.ipynb",
      "provenance": [],
      "collapsed_sections": [],
      "toc_visible": true
    },
    "kernelspec": {
      "name": "python3",
      "display_name": "Python 3"
    },
    "language_info": {
      "name": "python"
    }
  },
  "cells": [
    {
      "cell_type": "markdown",
      "metadata": {
        "id": "3mitRaMp6NMf"
      },
      "source": [
        "# Parameters"
      ]
    },
    {
      "cell_type": "code",
      "metadata": {
        "id": "0M6JjeLZ6QB0"
      },
      "source": [
        "# 0 - heart\n",
        "# 1,2,3,4 - right\n",
        "# 5,6,7 - capilars \n",
        "# 8, 9,10,11 - left"
      ],
      "execution_count": null,
      "outputs": []
    },
    {
      "cell_type": "code",
      "metadata": {
        "id": "pfqF_s5wFxhb"
      },
      "source": [
        "matrix = [\n",
        "[0, 1, 0, 0, 0, 0, 0, 0, 0, 0, 0, 0], \n",
        "[0, 0, 1, 1, 0, 0, 0, 0, 0, 0, 0, 0], \n",
        "[0, 0, 0, 0, 1, 1, 0, 0, 0, 0, 0, 0], \n",
        "[0, 0, 0, 0, 1, 0, 0, 1, 0, 0, 0, 0], \n",
        "[0, 0, 0, 0, 0, 0, 1, 0, 0, 0, 0, 0], \n",
        "[0, 0, 0, 0, 0, 0, 0, 0, 0, 0, 1, 0], \n",
        "[0, 0, 0, 0, 0, 0, 0, 0, 0, 1, 0, 0], \n",
        "[0, 0, 0, 0, 0, 0, 0, 0, 1, 0, 0, 0], \n",
        "[0, 0, 0, 0, 0, 0, 0, 0, 0, 0, 0, 1], \n",
        "[0, 0, 0, 0, 0, 0, 0, 0, 1, 0, 1, 0], \n",
        "[0, 0, 0, 0, 0, 0, 0, 0, 0, 0, 0, 1], \n",
        "[1, 0, 0, 0, 0, 0, 0, 0, 0, 0, 0, 0] \n",
        "]"
      ],
      "execution_count": null,
      "outputs": []
    },
    {
      "cell_type": "code",
      "metadata": {
        "colab": {
          "base_uri": "https://localhost:8080/"
        },
        "id": "Z7eX_KsTyInn",
        "outputId": "1a7e240a-b114-45c9-9c46-4a65575d8a9c"
      },
      "source": [
        "len(matrix)"
      ],
      "execution_count": null,
      "outputs": [
        {
          "output_type": "execute_result",
          "data": {
            "text/plain": [
              "12"
            ]
          },
          "metadata": {
            "tags": []
          },
          "execution_count": 3
        }
      ]
    },
    {
      "cell_type": "code",
      "metadata": {
        "id": "Dz5MhxTLySao"
      },
      "source": [
        "# oriented\n",
        "time = [\n",
        "[0, 1.3, 0, 0, 0, 0, 0, 0, 0, 0, 0, 0], \n",
        "[0, 0, 1.59, 1.59, 0, 0, 0, 0, 0, 0, 0, 0], \n",
        "[0, 0, 0, 0, 0.2, 3, 0, 0, 0, 0, 0, 0], \n",
        "[0, 0, 0, 0, 0.2, 0, 0, 3, 0, 0, 0, 0], \n",
        "[0, 0, 0, 0, 0, 0, 2.8, 0, 0, 0, 0, 0], \n",
        "[0, 0, 0, 0, 0, 0, 0, 0, 0, 0, 3.15, 0], \n",
        "[0, 0, 0, 0, 0, 0, 0, 0, 0, 2.08, 0, 0], \n",
        "[0, 0, 0, 0, 0, 0, 0, 0, 3.15, 0, 0, 0], \n",
        "[0, 0, 0, 0, 0, 0, 0, 0, 0, 0, 0, 1.52], \n",
        "[0, 0, 0, 0, 0, 0, 0, 0, 1.07, 0, 1.07, 0], \n",
        "[0, 0, 0, 0, 0, 0, 0, 0, 0, 0, 0, 1.52], \n",
        "[1, 0, 0, 0, 0, 0, 0, 0, 0, 0, 0, 0] \n",
        "]"
      ],
      "execution_count": null,
      "outputs": []
    },
    {
      "cell_type": "code",
      "metadata": {
        "id": "Wz7Z6aBdKjpN"
      },
      "source": [
        "volume = [\n",
        "[0, 200, 0, 0, 0, 0, 0, 0, 0, 0, 0, 0], \n",
        "[0, 0, 9.75, 9.75, 0, 0, 0, 0, 0, 0, 0, 0], \n",
        "[0, 0, 0, 0, 0.28, 15, 0, 0, 0, 0, 0, 0], \n",
        "[0, 0, 0, 0, 0.28, 0, 0, 15, 0, 0, 0, 0], \n",
        "[0, 0, 0, 0, 0, 0, 1.37, 0, 0, 0, 0, 0], \n",
        "[0, 0, 0, 0, 0, 0, 0, 0, 0, 0, 15, 0], \n",
        "[0, 0, 0, 0, 0, 0, 0, 0, 0, 1.645, 0, 0], \n",
        "[0, 0, 0, 0, 0, 0, 0, 0, 15, 0, 0, 0], \n",
        "[0, 0, 0, 0, 0, 0, 0, 0, 0, 0, 0, 9.3], \n",
        "[0, 0, 0, 0, 0, 0, 0, 0, 1.07, 0, 1.07, 0], \n",
        "[0, 0, 0, 0, 0, 0, 0, 0, 0, 0, 0, 9.3], \n",
        "[200, 0, 0, 0, 0, 0, 0, 0, 0, 0, 0, 0]\n",
        "]"
      ],
      "execution_count": null,
      "outputs": []
    },
    {
      "cell_type": "code",
      "metadata": {
        "id": "pfW37ECv_mtg"
      },
      "source": [
        "# equations\n",
        "nodes2edges = dict()\n",
        "nodes2edges[(0, 1)] = 0\n",
        "nodes2edges[(1, 2)] = 1\n",
        "nodes2edges[(1, 3)] = 2\n",
        "nodes2edges[(2, 5)] = 3\n",
        "nodes2edges[(2, 4)] = 4\n",
        "nodes2edges[(3, 7)] = 5\n",
        "nodes2edges[(3, 4)] = 6\n",
        "nodes2edges[(4, 6)] = 7\n",
        "nodes2edges[(6, 9)] = 8\n",
        "nodes2edges[(9, 10)] = 9\n",
        "nodes2edges[(9, 8)] = 10\n",
        "nodes2edges[(7, 8)] = 11\n",
        "nodes2edges[(5, 10)] = 12\n",
        "nodes2edges[(8, 11)] = 13\n",
        "nodes2edges[(10, 11)] = 14\n",
        "nodes2edges[(11, 0)] = 15"
      ],
      "execution_count": null,
      "outputs": []
    },
    {
      "cell_type": "code",
      "metadata": {
        "id": "c5Nj_lAmwdhe"
      },
      "source": [
        "import typing\n",
        "import numpy as np\n",
        "from typing import List\n",
        "def matrix_to_edges(matrix) -> List[float]:\n",
        "  n = len(matrix)\n",
        "  array = []\n",
        "  for edge in nodes2edges:\n",
        "    array.append(matrix[edge[0]][edge[1]])\n",
        "  return np.array(array)\n",
        "\n",
        "\n",
        "# volume, cross-section, time and fulltime for all vessels\n",
        "edge2volume_vessel = matrix_to_edges(volume)\n",
        "edges2crosssec = np.array([4, 1.3, 1.3, 0.49, 0.07, 0.49, 0.07, 0.195, 0.235, 0.135, 0.135, 0.5, 0.5, 1.79, 1.79, 4.7])\n",
        "edges2time = matrix_to_edges(time)\n",
        "edges2fulltime = np.array([1.3, 2.89, 2.89, 5.89, 3.09, 5.89, 3.09, 5.89, 19.97, 21.04, 21.04, 21.04, 21.04, 22.56, 22.56, 23.56])\n"
      ],
      "execution_count": null,
      "outputs": []
    },
    {
      "cell_type": "code",
      "metadata": {
        "id": "bkwuxdrFE7vl"
      },
      "source": [
        "elasticity = 0.0004 # ?????? Па * \n",
        "internia = 0.00021 #inert с2 * pa / sm3 \n",
        "ro = 1.05 # г / см,3\n",
        "mu = 3.5 * 0.01 # Па * c\n",
        "pressure_drop_heart = 90 #117 ммрт  pres_1 Па\n",
        "pres_drop_capils = 37 #pres_2 Па\n",
        "Resist_capilar = 350 # Па * c / cм,3\n",
        "# coef for bernoulli \n",
        "inv_ro_c = 1.0 / (ro * elasticity)\n",
        "# R = 8 * L * \\mu / (S**2 * \\pi)  -> 8 * \\mu * V / (S**3 * \\pi)\n",
        "Rs = 8 * mu * edge2volume_vessel / (edges2crosssec ** 3 * np.pi) #R_s"
      ],
      "execution_count": null,
      "outputs": []
    },
    {
      "cell_type": "code",
      "metadata": {
        "colab": {
          "base_uri": "https://localhost:8080/"
        },
        "id": "6-vnrjdUwhJW",
        "outputId": "c8b1e638-276d-4a0c-c8dc-7866ae06dfdc"
      },
      "source": [
        "Rs"
      ],
      "execution_count": null,
      "outputs": [
        {
          "output_type": "execute_result",
          "data": {
            "text/plain": [
              "array([ 0.27852115,  0.39553299,  0.39553299, 11.36347544, 72.75654541,\n",
              "       11.36347544, 72.75654541, 16.46739457, 11.29719107, 38.76061247,\n",
              "       38.76061247, 10.69521218, 10.69521218,  0.14452135,  0.14452135,\n",
              "        0.17168983])"
            ]
          },
          "metadata": {
            "tags": []
          },
          "execution_count": 17
        }
      ]
    },
    {
      "cell_type": "code",
      "metadata": {
        "id": "Y82kiaHxwaPT"
      },
      "source": [
        "# Coefs for differential\n",
        "\n",
        "ar_1 = (-Rs / internia).reshape((16,1)) #  - R / I\n",
        "ar_2 = (-np.ones(16) / (internia * elasticity)).reshape((16,1)) # - V_coef ** 2 / (I * C) #(-matrix_to_edges(volume) ** 2 \n",
        "dif_system = np.concatenate((ar_1, ar_2), axis=1)"
      ],
      "execution_count": null,
      "outputs": []
    },
    {
      "cell_type": "code",
      "metadata": {
        "colab": {
          "base_uri": "https://localhost:8080/"
        },
        "id": "1D9bvR7Hmwzh",
        "outputId": "84372e9b-c7c5-414e-f9b1-8c8ede949a25"
      },
      "source": [
        "dif_system.shape"
      ],
      "execution_count": null,
      "outputs": [
        {
          "output_type": "execute_result",
          "data": {
            "text/plain": [
              "(16, 2)"
            ]
          },
          "metadata": {
            "tags": []
          },
          "execution_count": 19
        }
      ]
    },
    {
      "cell_type": "code",
      "metadata": {
        "colab": {
          "base_uri": "https://localhost:8080/"
        },
        "id": "KGEHGv2hipCj",
        "outputId": "7e2bd3d7-1f0b-4e9c-92c2-5c6a1f489b41"
      },
      "source": [
        "for i in range(16):\n",
        "    print('{0:.5f}'.format(dif_system[i][0]), '{0:.15f}'.format(dif_system[i][1]))"
      ],
      "execution_count": null,
      "outputs": [
        {
          "output_type": "stream",
          "text": [
            "-1326.29119 -11904761.904761902987957\n",
            "-1883.49045 -11904761.904761902987957\n",
            "-1883.49045 -11904761.904761902987957\n",
            "-54111.78781 -11904761.904761902987957\n",
            "-346459.74006 -11904761.904761902987957\n",
            "-54111.78781 -11904761.904761902987957\n",
            "-346459.74006 -11904761.904761902987957\n",
            "-78416.16464 -11904761.904761902987957\n",
            "-53796.14796 -11904761.904761902987957\n",
            "-184574.34509 -11904761.904761902987957\n",
            "-184574.34509 -11904761.904761902987957\n",
            "-50929.58179 -11904761.904761902987957\n",
            "-50929.58179 -11904761.904761902987957\n",
            "-688.19691 -11904761.904761902987957\n",
            "-688.19691 -11904761.904761902987957\n",
            "-817.57064 -11904761.904761902987957\n"
          ],
          "name": "stdout"
        }
      ]
    },
    {
      "cell_type": "code",
      "metadata": {
        "id": "7M06mxoiyaYh"
      },
      "source": [
        "start_points = np.random.random((16, 2)) * 100"
      ],
      "execution_count": null,
      "outputs": []
    },
    {
      "cell_type": "code",
      "metadata": {
        "colab": {
          "base_uri": "https://localhost:8080/"
        },
        "id": "k1e6-jhuoFw7",
        "outputId": "eb01d53d-c3dd-4ff4-fbcc-51de01c61ae4"
      },
      "source": [
        "start_points"
      ],
      "execution_count": null,
      "outputs": [
        {
          "output_type": "execute_result",
          "data": {
            "text/plain": [
              "array([[31.58938105,  9.80938556],\n",
              "       [82.05292832, 85.87114632],\n",
              "       [97.46947187,  0.53223393],\n",
              "       [38.21536944, 29.21096569],\n",
              "       [42.86437393, 86.07308146],\n",
              "       [14.21157863, 85.25812089],\n",
              "       [77.79445112, 86.83941072],\n",
              "       [70.32405857, 35.31045943],\n",
              "       [23.19219488, 27.34567448],\n",
              "       [75.65373129, 56.70328559],\n",
              "       [81.48672677, 20.00417347],\n",
              "       [84.41210014, 68.63236839],\n",
              "       [95.12814953, 21.89627727],\n",
              "       [19.22132754, 52.45602556],\n",
              "       [44.27868264, 46.63371468],\n",
              "       [ 9.05004783, 28.85786189]])"
            ]
          },
          "metadata": {
            "tags": []
          },
          "execution_count": 22
        }
      ]
    },
    {
      "cell_type": "code",
      "metadata": {
        "id": "9kTXnDzz5j5E"
      },
      "source": [
        "conjunctions = [\n",
        " ([15], [0]), #0\n",
        " ([0], [1, 2]), #1\n",
        " ([1], [3, 4]), #2\n",
        " ([2], [5, 6]), #3\n",
        " ([4, 6], [7]), #4\n",
        " ([3], [12]), #5\n",
        " ([7], [8]), #6\n",
        " ([5], [11]), #7\n",
        " ([10, 11], [13]), #8\n",
        " ([8], [9, 10]), #9\n",
        " ([9, 12], [14]), #10\n",
        " ([13, 14], [15]) #11\n",
        "]"
      ],
      "execution_count": null,
      "outputs": []
    },
    {
      "cell_type": "markdown",
      "metadata": {
        "id": "OX8KUflb5UKW"
      },
      "source": [
        "# Process"
      ]
    },
    {
      "cell_type": "code",
      "metadata": {
        "id": "6L-dwWAcTkl2"
      },
      "source": [
        ""
      ],
      "execution_count": null,
      "outputs": []
    },
    {
      "cell_type": "code",
      "metadata": {
        "id": "TLYyJWz_TkpX"
      },
      "source": [
        ""
      ],
      "execution_count": null,
      "outputs": []
    },
    {
      "cell_type": "code",
      "metadata": {
        "id": "zWWeQ-4Cz3A1"
      },
      "source": [
        "def RK(v_0, q_0, coef_q_1, coef_v_1, coef_q_2, coef_v_2, delta, n):\n",
        "    v_cur = v_0\n",
        "    q_cur = q_0\n",
        "    f = lambda x, y: x * coef_v_1 + y * coef_q_1\n",
        "    g = lambda x, y: x * coef_v_2 + y * coef_q_2\n",
        "    for i in range(n):\n",
        "        #print(v_cur, q_cur)\n",
        "\n",
        "        k1 = f(v_cur, q_cur)\n",
        "        m1 = g(v_cur, q_cur)\n",
        "\n",
        "        k2 = f(v_cur + k1 * delta * 0.5, q_cur + m1 * delta * 0.5)\n",
        "        m2 = g(v_cur + k1 * delta * 0.5, q_cur + m1 * delta * 0.5)\n",
        "\n",
        "        k3 = f(v_cur + k2 * delta * 0.5, q_cur + m2 * delta * 0.5)\n",
        "        m3 = g(v_cur + k2 * delta * 0.5, q_cur + m2 * delta * 0.5)\n",
        "      \n",
        "        k4 = f(v_cur + delta * k3, q_cur + delta * m3)\n",
        "        m4 = g(v_cur + delta * k3, q_cur + delta * m3)\n",
        "\n",
        "        v_next = v_cur + delta * (k1 + k2 * 2 + 2 * k3 + k4) / 6.0\n",
        "        q_next = q_cur + delta * (m1 + m2 * 2 + 2 * m3 + m4) / 6.0\n",
        "\n",
        "        v_cur = v_next\n",
        "        q_cur = q_next\n",
        "\n",
        "    return v_cur, q_cur\n",
        "\n",
        "\n",
        "\n",
        "def RK_i(i, array_x, dif_system, edges2fulltime, edges2time):\n",
        "    #print(\"params in differentials\", dif_system[i][0], dif_system[i][1])\n",
        "    #print(\"time\", edges2time[i] / 1000.0)\n",
        "    return RK(array_x[i][0], array_x[i][1], dif_system[i][0], dif_system[i][1], 1.0, 0.0, edges2time[i] / 1000.0, 500)\n"
      ],
      "execution_count": null,
      "outputs": []
    },
    {
      "cell_type": "code",
      "metadata": {
        "id": "8UsRgov25a9a"
      },
      "source": [
        "def process_rk(start_points, percent):\n",
        "\n",
        "  vector_time_1 = []\n",
        "  # Рунге кутт - в сторону увеличения времени\n",
        "  for i in range(16):\n",
        "      #print(\"Номер итерации\", i)\n",
        "      vector_time_1.append(RK_i(i, start_points, dif_system, edges2fulltime, edges2time))\n",
        "      #print(\"values of RK algo\", RK_i(i, start_points, dif_system, edges2fulltime, edges2time))\n",
        "      #print(\"-------------------\")\n",
        "\n",
        "  # Рунге кутт - в сторону уменьшения времени\n",
        "  vector_time_0 = []\n",
        "  for i in range(16):\n",
        "      #print(\"Номер итерации\", i)\n",
        "      vector_time_0.append(RK_i(i, start_points, dif_system, edges2fulltime, -edges2time))\n",
        "      #print(\"values of RK algo\", RK_i(i, start_points, dif_system, edges2fulltime, -edges2time))\n",
        "      #print(\"-------------------\")\n",
        "\n",
        "\n",
        "  #errors for Mass / volume conservation\n",
        "  vectors_errors_mass = [] # 12\n",
        "\n",
        "  for i in range(12):\n",
        "      inners = conjunctions[i][0]\n",
        "      outers = conjunctions[i][1]\n",
        "      cur_error = 0\n",
        "      if (i != 0):\n",
        "          for edge in inners:\n",
        "              cur_error -= vector_time_1[edge][0] #inner edge with \"-\" sign\n",
        "          for edge in outers:\n",
        "              cur_error += vector_time_0[edge][0] #outer edge with \"+\" sign \n",
        "          vectors_errors_mass.append(cur_error)\n",
        "      else:\n",
        "          vectors_errors_mass.append(vector_time_0[outers[0]][0] - 40) ## ?см^3 ?\n",
        "\n",
        "  # errors for Bernoulli integral\n",
        "\n",
        "  # \\ro * Q^2 / (S^2 * 2) + 2 * V / C = const\n",
        "\n",
        "  vectors_errors_bern = [] # 16\n",
        "\n",
        "  for i in range(12):\n",
        "      inners = conjunctions[i][0]\n",
        "      outers = conjunctions[i][1]\n",
        "      if ((len(inners) + len(outers)) == 2):\n",
        "          continue\n",
        "      elif (len(inners) == 1):\n",
        "          V_1 = vector_time_1[inners[0]][0]\n",
        "          V_2 = vector_time_0[outers[0]][0]\n",
        "          V_3 = vector_time_0[outers[1]][0]\n",
        "\n",
        "          Q_1 = vector_time_1[inners[0]][1]\n",
        "          Q_2 = vector_time_0[outers[0]][1]\n",
        "          Q_3 = vector_time_0[outers[1]][1]\n",
        "\n",
        "          cur_error = ro * (Q_1 ** 2 / (edges2crosssec[inners[0]] ** 2) - \\\n",
        "                                Q_2 ** 2 / (edges2crosssec[outers[0]] ** 2)) + \\\n",
        "                                  2 * (V_1 - V_2) / elasticity\n",
        "\n",
        "          vectors_errors_bern.append(cur_error)\n",
        "\n",
        "          cur_error = ro * (Q_1 ** 2 / (edges2crosssec[inners[0]] ** 2) - \\\n",
        "                                Q_3 ** 2 / (edges2crosssec[outers[1]] ** 2)) + \\\n",
        "                                  2 * (V_1 - V_3) / elasticity\n",
        "                                \n",
        "          vectors_errors_bern.append(cur_error)\n",
        "      else:\n",
        "          V_1 = vector_time_0[outers[0]][0]\n",
        "          V_2 = vector_time_1[inners[0]][0]\n",
        "          V_3 = vector_time_1[inners[1]][0]\n",
        "\n",
        "          Q_1 = vector_time_0[outers[0]][1]\n",
        "          Q_2 = vector_time_1[inners[0]][1]\n",
        "          Q_3 = vector_time_1[inners[1]][1]\n",
        "\n",
        "          cur_error = ro * (Q_1 ** 2 / (edges2crosssec[outers[0]] ** 2) - \\\n",
        "                                Q_2 ** 2 / (edges2crosssec[inners[0]] ** 2)) + \\\n",
        "                                2 * (V_1 - V_2) / elasticity\n",
        "\n",
        "          vectors_errors_bern.append(cur_error)\n",
        "\n",
        "          cur_error = ro * (Q_1 ** 2 / (edges2crosssec[outers[0]] ** 2) - \\\n",
        "                                Q_3 ** 2 / (edges2crosssec[inners[1]] ** 2)) + \\\n",
        "                                2 * (V_1 - V_3) / elasticity      \n",
        "          vectors_errors_bern.append(cur_error)\n",
        "\n",
        "  vector_errors_spessial = [] # 4\n",
        "  for i in range(12):\n",
        "      inners = conjunctions[i][0]\n",
        "      outers = conjunctions[i][1]\n",
        "      if ((len(inners) + len(outers)) == 2 and i != 0):\n",
        "          V_1 = vector_time_0[outers[0]][0]\n",
        "          V_2 = vector_time_1[inners[0]][0]\n",
        "\n",
        "          Q_1 = vector_time_0[outers[0]][1]\n",
        "          Q_2 = vector_time_1[inners[0]][1]\n",
        "\n",
        "          cur_error = ro * (Q_1 ** 2 / (edges2crosssec[outers[0]] ** 2) - \\\n",
        "                                Q_2 ** 2 / (edges2crosssec[inners[0]] ** 2)) + \\\n",
        "                                2 * ((V_1 - V_2) / elasticity - pres_drop_capils)\n",
        "\n",
        "          vector_errors_spessial.append(cur_error)\n",
        "          \n",
        "      elif (i == 0):\n",
        "          V_1 = vector_time_0[outers[0]][0]\n",
        "          V_2 = vector_time_1[inners[0]][0]\n",
        "\n",
        "          Q_1 = vector_time_0[outers[0]][1]\n",
        "          Q_2 = vector_time_1[inners[0]][1]\n",
        "\n",
        "          cur_error = ro * (Q_1 ** 2 / (edges2crosssec[outers[0]] ** 2) - \\\n",
        "                                Q_2 ** 2 / (edges2crosssec[inners[0]] ** 2)) + \\\n",
        "                                2 * ((V_1 - V_2) / elasticity + pressure_drop_heart)\n",
        "\n",
        "          vector_errors_spessial.append(cur_error)\n",
        "\n",
        "\n",
        "  errors = np.concatenate((np.array(vectors_errors_mass), np.array(vectors_errors_bern), np.array(vector_errors_spessial)), axis=0)\n",
        "\n",
        "\n",
        "  matrix_errors = np.zeros((32, 32))\n",
        "\n",
        "  for i in range(12):\n",
        "    inners = conjunctions[i][0]\n",
        "    outers = conjunctions[i][1]\n",
        "    cur_error = 0\n",
        "    if (i == 0):\n",
        "        cur_error = (vector_time_0[outers[0]][0] + 0.001 - 40)\n",
        "        matrix_errors[0][0] = round((cur_error - errors[0]) / 0.001)\n",
        "        continue\n",
        "    for j in range(len(inners) + len(outers)):\n",
        "        cur_error = 0\n",
        "        for e_in in range(len(inners)):\n",
        "            if (e_in == j):\n",
        "                cur_error -= (vector_time_1[inners[j]][0] + 0.001)\n",
        "            else:\n",
        "                cur_error -= vector_time_1[inners[e_in]][0] #inner edge with \"-\" sign\n",
        "        for e_out in range(len(outers)):\n",
        "            if (e_out == (j - len(inners))):\n",
        "                cur_error += (vector_time_0[outers[e_out]][0] + 0.001)\n",
        "            else:\n",
        "                cur_error += vector_time_0[outers[e_out]][0] #outer edge with \"+\" sign \n",
        "        if (j < len(inners)):\n",
        "            matrix_errors[i][2 * inners[j]] = round((cur_error - errors[i]) / 0.001)\n",
        "        elif (j >= len(inners)):\n",
        "            matrix_errors[i][2 * outers[j - len(inners)]] = round((cur_error - errors[i]) / 0.001)\n",
        "              \n",
        "\n",
        "  # errors for Bernoulli integral\n",
        "  counter = 0\n",
        "  for i in range(12):\n",
        "      inners = conjunctions[i][0]\n",
        "      outers = conjunctions[i][1]\n",
        "      if ((len(inners) + len(outers)) == 2):\n",
        "          counter -= 2\n",
        "      else:\n",
        "          for j in range(2 * (len(inners) + len(outers))):\n",
        "\n",
        "              if (len(inners) == 1):\n",
        "                  V_1 = vector_time_1[inners[0]][0]\n",
        "                  V_2 = vector_time_0[outers[0]][0]\n",
        "                  V_3 = vector_time_0[outers[1]][0]\n",
        "                  Q_1 = vector_time_1[inners[0]][1]\n",
        "                  Q_2 = vector_time_0[outers[0]][1]\n",
        "                  Q_3 = vector_time_0[outers[1]][1]\n",
        "\n",
        "                  if (j == 0):\n",
        "                      V_1 += V_1 * percent\n",
        "                  elif (j == 1):\n",
        "                      V_2 += V_2 * percent\n",
        "                  elif (j == 2):\n",
        "                      V_3 += V_3 * percent\n",
        "                  elif (j == 3):\n",
        "                      Q_1 += Q_1 * percent\n",
        "                  elif (j == 4):\n",
        "                      Q_2 += Q_2 * percent\n",
        "                  elif (j == 5):\n",
        "                      Q_3 += Q_3 * percent\n",
        "\n",
        "                  cur_error = ro * (Q_1 ** 2 / (edges2crosssec[inners[0]] ** 2) - \\\n",
        "                                        Q_2 ** 2 / (edges2crosssec[outers[0]] ** 2)) + \\\n",
        "                                        2 * (V_1 - V_2) / elasticity\n",
        "\n",
        "                  if (j == 0):\n",
        "                      matrix_errors[12 + counter][2 * inners[0]] = 2 / elasticity\n",
        "                  elif (j == 1):\n",
        "                      matrix_errors[12 + counter][2 * outers[0]] = -2 / elasticity\n",
        "                  #elif (j == 2):\n",
        "                   #   matrix_errors[12 + counter][2 * outers[1]] = -2 / elasticity\n",
        "                  elif (j == 3):\n",
        "                      matrix_errors[12 + counter][2 * inners[0] + 1] = 2 * ro * Q_1 / (edges2crosssec[inners[0]] ** 2)\n",
        "                  elif (j == 4):\n",
        "                      matrix_errors[12 + counter][2 * outers[0] + 1] = -2 * ro * Q_2 / (edges2crosssec[outers[0]] ** 2)\n",
        "                  #elif (j == 5):\n",
        "                   #   matrix_errors[12 + counter][2 * outers[1] + 1] = -2 * ro * Q_3 / (edges2crosssec[outers[1]] ** 2)\n",
        "            \n",
        "\n",
        "                  cur_error = ro * (Q_1 ** 2 / (edges2crosssec[inners[0]] ** 2) - \\\n",
        "                                        Q_3 ** 2 / (edges2crosssec[outers[1]] ** 2)) + \\\n",
        "                                        2 * (V_1 - V_3) / elasticity\n",
        "                        \n",
        "                  if (j == 0):\n",
        "                      matrix_errors[12 + counter + 1][2 * inners[0]] = 2 / elasticity\n",
        "                  #elif (j == 1):\n",
        "                   #   matrix_errors[12 + counter + 1][2 * outers[0]] = -2 / elasticity\n",
        "                  elif (j == 2):\n",
        "                      matrix_errors[12 + counter + 1][2 * outers[1]] = -2 / elasticity\n",
        "                  elif (j == 3):\n",
        "                      matrix_errors[12 + counter + 1][2 * inners[0] + 1] = 2 * ro * Q_1 / (edges2crosssec[inners[0]] ** 2)\n",
        "                  #elif (j == 4):\n",
        "                   #   matrix_errors[12 + counter + 1][2 * outers[0] + 1] = -2 * ro * Q_2 / (edges2crosssec[outers[0]] ** 2)\n",
        "                  elif (j == 5):\n",
        "                      matrix_errors[12 + counter + 1][2 * outers[1] + 1] = -2 * ro * Q_3 / (edges2crosssec[outers[1]] ** 2)\n",
        "                                        \n",
        "              else:\n",
        "                  V_1 = vector_time_0[outers[0]][0]\n",
        "                  V_2 = vector_time_1[inners[0]][0]\n",
        "                  V_3 = vector_time_1[inners[1]][0]\n",
        "                  Q_1 = vector_time_0[outers[0]][1]\n",
        "                  Q_2 = vector_time_1[inners[0]][1]\n",
        "                  Q_3 = vector_time_1[inners[1]][1]\n",
        "\n",
        "                  if (j == 0):\n",
        "                      V_1 += V_1 * percent\n",
        "                  elif (j == 1):\n",
        "                      V_2 += V_2 * percent\n",
        "                  elif (j == 2):\n",
        "                      V_3 += V_3 * percent\n",
        "                  elif (j == 3):\n",
        "                      Q_1 += Q_1 * percent\n",
        "                  elif (j == 4):\n",
        "                      Q_2 += Q_2 * percent\n",
        "                  elif (j == 5):\n",
        "                      Q_3 += Q_3 * percent\n",
        "\n",
        "                  cur_error = ro * (Q_1 ** 2 / (edges2crosssec[outers[0]] ** 2) - \\\n",
        "                                        Q_2 ** 2 / (edges2crosssec[inners[0]] ** 2)) + \\\n",
        "                                        2 * (V_1 - V_2) / elasticity\n",
        "\n",
        "                  if (j == 0):\n",
        "                      matrix_errors[12 + counter][2 * outers[0]] = -2 / elasticity\n",
        "                  elif (j == 1):\n",
        "                      matrix_errors[12 + counter][2 * inners[0]] = 2 / elasticity\n",
        "                  #elif (j == 2):\n",
        "                   #   matrix_errors[12 + counter][2 * inners[1]] = 2 / elasticity\n",
        "                  elif (j == 3):\n",
        "                      matrix_errors[12 + counter][2 * outers[0] + 1] = -2 * ro * Q_1 / (edges2crosssec[outers[0]] ** 2)\n",
        "                  elif (j == 4):\n",
        "                      matrix_errors[12 + counter][2 * inners[0] + 1] = 2 * ro * Q_2 / (edges2crosssec[inners[0]] ** 2)\n",
        "                  #elif (j == 5):\n",
        "                    #  matrix_errors[12 + counter][2 * inners[1] + 1] = 2 * ro * Q_3 / (edges2crosssec[inners[1]] ** 2)\n",
        "\n",
        "                  cur_error = ro * (Q_1 ** 2 / (edges2crosssec[outers[0]] ** 2) - \\\n",
        "                                        Q_3 ** 2 / (edges2crosssec[inners[1]] ** 2)) + \\\n",
        "                                        2 * (V_1 - V_3) / elasticity      \n",
        "                  \n",
        "                  if (j == 0):\n",
        "                      matrix_errors[12 + counter + 1][2 * outers[0]] = -2 / elasticity\n",
        "                  #elif (j == 1):\n",
        "                   #   matrix_errors[12 + counter + 1][2 * inners[0]] = 2 / elasticity\n",
        "                  elif (j == 2):\n",
        "                      matrix_errors[12 + counter + 1][2 * inners[1]] = 2 / elasticity\n",
        "                  elif (j == 3):\n",
        "                      matrix_errors[12 + counter + 1][2 * outers[0] + 1] = -2 * ro * Q_1 / (edges2crosssec[outers[0]] ** 2)\n",
        "                  #elif (j == 4):\n",
        "                   #   matrix_errors[12 + counter + 1][2 * inners[0] + 1] = 2 * ro * Q_2 / (edges2crosssec[inners[0]] ** 2)\n",
        "                  elif (j == 5):\n",
        "                      matrix_errors[12 + counter + 1][2 * inners[1] + 1] = 2 * ro * Q_3 / (edges2crosssec[inners[1]] ** 2)\n",
        "      counter += 2\n",
        "        \n",
        "\n",
        "  # \\delta p = R * Q = R * V(t) / T\n",
        "  j = 0\n",
        "  counter = 0\n",
        "  for i in range(12):\n",
        "      inners = conjunctions[i][0]\n",
        "      outers = conjunctions[i][1]\n",
        "      if ((len(inners) + len(outers)) == 2 and i != 0):\n",
        "          counter += 1\n",
        "          for j in range(2 * (len(inners) + len(outers))):\n",
        "            V_1 = vector_time_0[outers[0]][0]\n",
        "            V_2 = vector_time_1[inners[0]][0]\n",
        "            Q_1 = vector_time_0[outers[0]][1]\n",
        "            Q_2 = vector_time_1[inners[0]][1]\n",
        "            if (j == 0):\n",
        "              V_1 += V_1 * percent\n",
        "            elif (j == 1):\n",
        "              V_2 += V_2 * percent\n",
        "            elif (j == 2):\n",
        "              Q_1 += Q_1 * percent\n",
        "            elif (j == 3):\n",
        "              Q_2 += Q_2 * percent\n",
        "\n",
        "\n",
        "            cur_error = ro * (Q_1 ** 2 / (edges2crosssec[outers[0]] ** 2) - \\\n",
        "                                  Q_2 ** 2 / (edges2crosssec[inners[0]] ** 2)) + \\\n",
        "                                  2 * ((V_1 - V_2) / elasticity - pres_drop_capils)\n",
        "\n",
        "            if (j == 0):\n",
        "                matrix_errors[28 + counter][2 * outers[0]] = -2 / elasticity\n",
        "            elif (j == 1):\n",
        "                matrix_errors[28 + counter][2 * inners[0]] = 2 / elasticity\n",
        "            elif (j == 2):\n",
        "                matrix_errors[28 + counter][2 * outers[0] + 1] = -2 * ro * Q_1 / (edges2crosssec[outers[0]] ** 2)\n",
        "            elif (j == 3):\n",
        "                matrix_errors[28 + counter][2 * inners[0] + 1] = 2 * ro * Q_2 / (edges2crosssec[inners[0]] ** 2)\n",
        "            \n",
        "      elif (i == 0):\n",
        "          for j in range(2 * (len(inners) + len(outers))):\n",
        "              V_1 = vector_time_0[outers[0]][0]\n",
        "              V_2 = vector_time_1[inners[0]][0]\n",
        "\n",
        "              Q_1 = vector_time_0[outers[0]][1]\n",
        "              Q_2 = vector_time_1[inners[0]][1]\n",
        "\n",
        "              if (j == 0):\n",
        "                V_1 += V_1 * percent\n",
        "              elif (j == 1):\n",
        "                V_2 += V_2 * percent\n",
        "              elif (j == 2):\n",
        "                Q_1 += Q_1 * percent\n",
        "              elif (j == 3):\n",
        "                Q_2 += Q_2 * percent\n",
        "\n",
        "             # cur_error = ro * (Q_1 ** 2 / (edges2crosssec[outers[0]] ** 2) - \\\n",
        "              #                      Q_2 ** 2 / (edges2crosssec[inners[0]] ** 2)) + \\\n",
        "               #                     2 * ((V_1 - V_2) / elasticity + pressure_drop_heart)\n",
        "\n",
        "              if (j == 0):\n",
        "                  matrix_errors[28][2 * outers[0]] = -2 / elasticity\n",
        "              elif (j == 1):\n",
        "                  matrix_errors[28][2 * inners[0]] = 2 / elasticity\n",
        "              elif (j == 2):\n",
        "                  matrix_errors[28][2 * outers[0] + 1] = -2 * ro * Q_1 / (edges2crosssec[outers[0]] ** 2)\n",
        "              elif (j == 3):\n",
        "                  matrix_errors[28][2 * inners[0] + 1] = 2 * ro * Q_2 / (edges2crosssec[inners[0]] ** 2)\n",
        "\n",
        "  \n",
        "  return matrix_errors, errors, vector_time_0, vector_time_1"
      ],
      "execution_count": null,
      "outputs": []
    },
    {
      "cell_type": "code",
      "metadata": {
        "id": "Job0z10RUFcO"
      },
      "source": [
        "def process_rk_for(start_points, percent):\n",
        "  start_points = start_points + 0.001 * start_points\n",
        "\n",
        "  vector_time_1 = []\n",
        "  # Рунге кутт - в сторону увеличения времени\n",
        "  for i in range(16):\n",
        "      #print(\"Номер итерации\", i)\n",
        "      vector_time_1.append(RK_i(i, start_points, dif_system, edges2fulltime, edges2time))\n",
        "      #print(\"values of RK algo\", RK_i(i, start_points, dif_system, edges2fulltime, edges2time))\n",
        "      #print(\"-------------------\")\n",
        "\n",
        "  # Рунге кутт - в сторону уменьшения времени\n",
        "  vector_time_0 = []\n",
        "  for i in range(16):\n",
        "      #print(\"Номер итерации\", i)\n",
        "      vector_time_0.append(RK_i(i, start_points, dif_system, edges2fulltime, -edges2time))\n",
        "      #print(\"values of RK algo\", RK_i(i, start_points, dif_system, edges2fulltime, -edges2time))\n",
        "      #print(\"-------------------\")\n",
        "\n",
        "\n",
        "  #errors for Mass / volume conservation\n",
        "  vectors_errors_mass = [] # 12\n",
        "\n",
        "  for i in range(12):\n",
        "      inners = conjunctions[i][0]\n",
        "      outers = conjunctions[i][1]\n",
        "      cur_error = 0\n",
        "      if (i != 0):\n",
        "          for edge in inners:\n",
        "              cur_error -= vector_time_1[edge][0] #inner edge with \"-\" sign\n",
        "          for edge in outers:\n",
        "              cur_error += vector_time_0[edge][0] #outer edge with \"+\" sign \n",
        "          vectors_errors_mass.append(cur_error)\n",
        "      else:\n",
        "          vectors_errors_mass.append(vector_time_0[outers[0]][0] - 40) ## ?см^3 ?\n",
        "\n",
        "  # errors for Bernoulli integral\n",
        "\n",
        "  # \\ro * Q^2 / (S^2 * 2) + 2 * V / C = const\n",
        "\n",
        "  vectors_errors_bern = [] # 16\n",
        "\n",
        "  for i in range(12):\n",
        "      inners = conjunctions[i][0]\n",
        "      outers = conjunctions[i][1]\n",
        "      if ((len(inners) + len(outers)) == 2):\n",
        "          continue\n",
        "      elif (len(inners) == 1):\n",
        "          V_1 = vector_time_1[inners[0]][0]\n",
        "          V_2 = vector_time_0[outers[0]][0]\n",
        "          V_3 = vector_time_0[outers[1]][0]\n",
        "\n",
        "          Q_1 = vector_time_1[inners[0]][1]\n",
        "          Q_2 = vector_time_0[outers[0]][1]\n",
        "          Q_3 = vector_time_0[outers[1]][1]\n",
        "\n",
        "          cur_error = ro * (Q_1 ** 2 / (edges2crosssec[inners[0]] ** 2) - \\\n",
        "                                Q_2 ** 2 / (edges2crosssec[outers[0]] ** 2)) + \\\n",
        "                                  2 * (V_1 - V_2) / elasticity\n",
        "\n",
        "          vectors_errors_bern.append(cur_error)\n",
        "\n",
        "          cur_error = ro * (Q_1 ** 2 / (edges2crosssec[inners[0]] ** 2) - \\\n",
        "                                Q_3 ** 2 / (edges2crosssec[outers[1]] ** 2)) + \\\n",
        "                                  2 * (V_1 - V_3) / elasticity\n",
        "                                \n",
        "          vectors_errors_bern.append(cur_error)\n",
        "      else:\n",
        "          V_1 = vector_time_0[outers[0]][0]\n",
        "          V_2 = vector_time_1[inners[0]][0]\n",
        "          V_3 = vector_time_1[inners[1]][0]\n",
        "\n",
        "          Q_1 = vector_time_0[outers[0]][1]\n",
        "          Q_2 = vector_time_1[inners[0]][1]\n",
        "          Q_3 = vector_time_1[inners[1]][1]\n",
        "\n",
        "          cur_error = ro * (Q_1 ** 2 / (edges2crosssec[outers[0]] ** 2) - \\\n",
        "                                Q_2 ** 2 / (edges2crosssec[inners[0]] ** 2)) + \\\n",
        "                                2 * (V_1 - V_2) / elasticity\n",
        "\n",
        "          vectors_errors_bern.append(cur_error)\n",
        "\n",
        "          cur_error = ro * (Q_1 ** 2 / (edges2crosssec[outers[0]] ** 2) - \\\n",
        "                                Q_3 ** 2 / (edges2crosssec[inners[1]] ** 2)) + \\\n",
        "                                2 * (V_1 - V_3) / elasticity      \n",
        "          vectors_errors_bern.append(cur_error)\n",
        "\n",
        "  vector_errors_spessial = [] # 4\n",
        "  for i in range(12):\n",
        "      inners = conjunctions[i][0]\n",
        "      outers = conjunctions[i][1]\n",
        "      if ((len(inners) + len(outers)) == 2 and i != 0):\n",
        "          V_1 = vector_time_0[outers[0]][0]\n",
        "          V_2 = vector_time_1[inners[0]][0]\n",
        "\n",
        "          Q_1 = vector_time_0[outers[0]][1]\n",
        "          Q_2 = vector_time_1[inners[0]][1]\n",
        "\n",
        "          cur_error = ro * (Q_1 ** 2 / (edges2crosssec[outers[0]] ** 2) - \\\n",
        "                                Q_2 ** 2 / (edges2crosssec[inners[0]] ** 2)) + \\\n",
        "                                2 * ((V_1 - V_2) / elasticity - pres_drop_capils)\n",
        "\n",
        "          vector_errors_spessial.append(cur_error)\n",
        "          \n",
        "      elif (i == 0):\n",
        "          V_1 = vector_time_0[outers[0]][0]\n",
        "          V_2 = vector_time_1[inners[0]][0]\n",
        "\n",
        "          Q_1 = vector_time_0[outers[0]][1]\n",
        "          Q_2 = vector_time_1[inners[0]][1]\n",
        "\n",
        "          cur_error = ro * (Q_1 ** 2 / (edges2crosssec[outers[0]] ** 2) - \\\n",
        "                                Q_2 ** 2 / (edges2crosssec[inners[0]] ** 2)) + \\\n",
        "                                2 * ((V_1 - V_2) / elasticity + pressure_drop_heart)\n",
        "\n",
        "          vector_errors_spessial.append(cur_error)\n",
        "\n",
        "\n",
        "  errors = np.concatenate((np.array(vectors_errors_mass), np.array(vectors_errors_bern), np.array(vector_errors_spessial)), axis=0)\n",
        "  return errors"
      ],
      "execution_count": null,
      "outputs": []
    },
    {
      "cell_type": "code",
      "metadata": {
        "id": "AURSv_7-URPo"
      },
      "source": [
        ""
      ],
      "execution_count": null,
      "outputs": []
    },
    {
      "cell_type": "markdown",
      "metadata": {
        "id": "M2xEzHor6HZ0"
      },
      "source": [
        "# Postprocessing"
      ]
    },
    {
      "cell_type": "code",
      "metadata": {
        "colab": {
          "base_uri": "https://localhost:8080/"
        },
        "id": "sxgCIP0nZa_5",
        "outputId": "badf660f-2ddd-4c5c-9133-797aae0a3e51"
      },
      "source": [
        "edges2crosssec"
      ],
      "execution_count": null,
      "outputs": [
        {
          "output_type": "execute_result",
          "data": {
            "text/plain": [
              "array([4.   , 1.3  , 1.3  , 0.49 , 0.07 , 0.49 , 0.07 , 0.195, 0.235,\n",
              "       0.135, 0.135, 0.5  , 0.5  , 1.79 , 1.79 , 4.7  ])"
            ]
          },
          "metadata": {
            "tags": []
          },
          "execution_count": 19
        }
      ]
    },
    {
      "cell_type": "code",
      "metadata": {
        "id": "ulY4WHp0qXNl"
      },
      "source": [
        "for i in range(len(edges2crosssec)):\n",
        "  if (edges2crosssec[i] < 1):\n",
        "    edges2crosssec[i] = 1"
      ],
      "execution_count": null,
      "outputs": []
    },
    {
      "cell_type": "code",
      "metadata": {
        "colab": {
          "base_uri": "https://localhost:8080/"
        },
        "id": "3b-gPuqUqdJ7",
        "outputId": "cb802fd1-83b1-49e2-bbae-dfde2c4cf424"
      },
      "source": [
        "edges2crosssec"
      ],
      "execution_count": null,
      "outputs": [
        {
          "output_type": "execute_result",
          "data": {
            "text/plain": [
              "array([4.  , 1.3 , 1.3 , 1.  , 1.  , 1.  , 1.  , 1.  , 1.  , 1.  , 1.  ,\n",
              "       1.  , 1.  , 1.79, 1.79, 4.7 ])"
            ]
          },
          "metadata": {
            "tags": []
          },
          "execution_count": 21
        }
      ]
    },
    {
      "cell_type": "code",
      "metadata": {
        "id": "-pWXtL-46KoB"
      },
      "source": [
        "elasticity = 0.208 # ?????? Па * \n",
        "internia = 0.00021 #inert с2 * pa / sm3 \n",
        "\n",
        "mu = 3.5 * 0.001 # Па * c (wikipedia)\n",
        "ro = 1.05 # г / см,3\n",
        "# coef for bernoulli \n",
        "inv_ro_c = 1.0 / (ro * elasticity)\n",
        "\n",
        "pressure_drop_heart = 11970 # Па\n",
        "pres_drop_capils = 3458 # Па\n",
        "Resist_capilar = 350 \n",
        "\n",
        "Rs = 8 * mu * edge2volume_vessel * np.pi / (edges2crosssec ** 3)"
      ],
      "execution_count": null,
      "outputs": []
    },
    {
      "cell_type": "code",
      "metadata": {
        "id": "-LGKLM-i2tRm"
      },
      "source": [
        "elasticities = [0.028, 0.208, 2.08, 20.8] \n",
        "internias = [0.00021, 0.021, 0.21, 2.1, 20.1] \n",
        "mus = [0.0035, 0.35, 3.5, 35, 350]\n",
        "ros = [0.0105, 1.05, 10.5, 105]\n",
        "pressure_drops_heart = [11.97, 119.7, 1197, 11970]\n",
        "pres_drops_capils = [3.458, 34.58, 345.8, 3458, 34580] \n",
        "Resists_capilar = [0.35, 3.5, 35, 350, 3500] \n",
        "\n",
        "counter = 0\n",
        "\n",
        "for elelasticity in elasticities:\n",
        "  for internia in internias:\n",
        "    for mu in mus:\n",
        "      for ro in ros:\n",
        "        for pressure_drop_heart in pressure_drops_heart:\n",
        "          for pres_drop_capils in pres_drops_capils:\n",
        "            for Resist_capilar in Resists_capilar:\n",
        "\n",
        "              counter += 1\n",
        "\n",
        "              inv_ro_cs = 1.0 / (ro * elasticity)\n",
        "              Rs = 8 * mu * edge2volume_vessel * np.pi / (edges2crosssec ** 3)\n",
        "              ar_1 = (-Rs / internia).reshape((16,1)) #  - R / I\n",
        "              ar_2 = (-np.ones(16) / (internia * elasticity)).reshape((16,1))\n",
        "              dif_system = np.concatenate((ar_1, ar_2), axis=1)\n",
        "              start_points = np.random.random((16, 2)) \n",
        "              \n",
        "              for i in range(10):\n",
        "                try:\n",
        "                  matrix_errors, errors, vec0, vec1 = process_rk(start_points, 0.001)\n",
        "                  if (i == 0 and np.linalg.det(matrix_errors) == 0):\n",
        "                    break\n",
        "                  else:  \n",
        "                    print(i)\n",
        "                    print(np.linalg.det(matrix_errors))\n",
        "                    if (np.linalg.det(matrix_errors) != 0):\n",
        "                      start_points_new = np.linalg.inv(matrix_errors) @ errors\n",
        "                      start_points_new.resize((16,2))\n",
        "                      start_points = start_points - start_points_new.copy()\n",
        "            \n",
        "                except:\n",
        "                  if (i != 0):\n",
        "                    print('error', i)\n",
        "                    print('new params ', counter)\n",
        "                    print()\n",
        "                  break"
      ],
      "execution_count": null,
      "outputs": []
    },
    {
      "cell_type": "code",
      "metadata": {
        "id": "KeNtod8t9sjR"
      },
      "source": [
        "Rs"
      ],
      "execution_count": null,
      "outputs": []
    },
    {
      "cell_type": "code",
      "metadata": {
        "id": "k-dFKvYc6KrM"
      },
      "source": [
        "ar_1 = (-Rs / internia).reshape((16,1)) #  - R / I\n",
        "ar_2 = (-np.ones(16) / (internia * elasticity)).reshape((16,1)) # - V_coef ** 2 / (I * C) #(-matrix_to_edges(volume) ** 2 \n",
        "dif_system = np.concatenate((ar_1, ar_2), axis=1)"
      ],
      "execution_count": null,
      "outputs": []
    },
    {
      "cell_type": "code",
      "metadata": {
        "id": "1sNH84786KvJ"
      },
      "source": [
        "start_points = np.random.random((16, 2)) "
      ],
      "execution_count": null,
      "outputs": []
    },
    {
      "cell_type": "code",
      "metadata": {
        "id": "nrAtFNFjK-BX"
      },
      "source": [
        "def print_mat(matrix_errors):\n",
        "  for i in range(len(matrix_errors)):\n",
        "    print('[', end=\" \")\n",
        "    for j in range(len(matrix_errors[0])):\n",
        "      print(matrix_errors[i][j], end=\" \")\n",
        "    print(']')"
      ],
      "execution_count": null,
      "outputs": []
    },
    {
      "cell_type": "code",
      "metadata": {
        "id": "2RXZ8TU6YX7a"
      },
      "source": [
        "def check(matrix_errors):\n",
        "  for i in range(len(matrix_errors)):\n",
        "    for j in range(len(matrix_errors[0])):\n",
        "      if (matrix_errors[i][j] > 10000):\n",
        "        print('govna na meste ', i, j)"
      ],
      "execution_count": null,
      "outputs": []
    },
    {
      "cell_type": "code",
      "metadata": {
        "id": "M4P3TcWNn_Kj"
      },
      "source": [
        ""
      ],
      "execution_count": null,
      "outputs": []
    },
    {
      "cell_type": "code",
      "metadata": {
        "colab": {
          "base_uri": "https://localhost:8080/",
          "height": 578
        },
        "id": "JX4OVGqO6a-z",
        "outputId": "8681685c-8611-4101-9485-e27841be188a"
      },
      "source": [
        "for i in range(10):\n",
        "  print()\n",
        "  print('iter = ', i)\n",
        "  try:\n",
        "    matrix_errors, errors, vec0, vec1 = process_rk(start_points, 0.001)\n",
        "    print(np.linalg.det(matrix_errors))\n",
        "    try:\n",
        "      start_points_new = np.linalg.inv(matrix_errors) @ errors\n",
        "      start_points_new.resize((16,2))\n",
        "      start_points = start_points - start_points_new.copy()\n",
        "    except:\n",
        "      print(\"you've got det 0\")\n",
        "      break\n",
        "  except:\n",
        "    print('nan')\n",
        "    break"
      ],
      "execution_count": null,
      "outputs": [
        {
          "output_type": "stream",
          "text": [
            "\n",
            "iter =  0\n"
          ],
          "name": "stdout"
        },
        {
          "output_type": "stream",
          "text": [
            "/usr/local/lib/python3.7/dist-packages/ipykernel_launcher.py:4: RuntimeWarning: overflow encountered in double_scalars\n",
            "  after removing the cwd from sys.path.\n",
            "/usr/local/lib/python3.7/dist-packages/ipykernel_launcher.py:5: RuntimeWarning: invalid value encountered in double_scalars\n",
            "  \"\"\"\n",
            "/usr/local/lib/python3.7/dist-packages/ipykernel_launcher.py:21: RuntimeWarning: invalid value encountered in double_scalars\n",
            "/usr/local/lib/python3.7/dist-packages/ipykernel_launcher.py:21: RuntimeWarning: overflow encountered in double_scalars\n",
            "/usr/local/lib/python3.7/dist-packages/ipykernel_launcher.py:12: RuntimeWarning: invalid value encountered in double_scalars\n",
            "  if sys.path[0] == '':\n",
            "/usr/local/lib/python3.7/dist-packages/ipykernel_launcher.py:13: RuntimeWarning: invalid value encountered in double_scalars\n",
            "  del sys.path[0]\n"
          ],
          "name": "stderr"
        },
        {
          "output_type": "error",
          "ename": "ValueError",
          "evalue": "ignored",
          "traceback": [
            "\u001b[0;31m---------------------------------------------------------------------------\u001b[0m",
            "\u001b[0;31mValueError\u001b[0m                                Traceback (most recent call last)",
            "\u001b[0;32m<ipython-input-644-a948f3c34038>\u001b[0m in \u001b[0;36m<module>\u001b[0;34m()\u001b[0m\n\u001b[1;32m      4\u001b[0m   \u001b[0mprint\u001b[0m\u001b[0;34m(\u001b[0m\u001b[0;34m'iter = '\u001b[0m\u001b[0;34m,\u001b[0m \u001b[0mi\u001b[0m\u001b[0;34m)\u001b[0m\u001b[0;34m\u001b[0m\u001b[0;34m\u001b[0m\u001b[0m\n\u001b[1;32m      5\u001b[0m \u001b[0;34m\u001b[0m\u001b[0m\n\u001b[0;32m----> 6\u001b[0;31m   \u001b[0mmatrix_errors\u001b[0m\u001b[0;34m,\u001b[0m \u001b[0merrors\u001b[0m\u001b[0;34m,\u001b[0m \u001b[0mvec0\u001b[0m\u001b[0;34m,\u001b[0m \u001b[0mvec1\u001b[0m \u001b[0;34m=\u001b[0m \u001b[0mprocess_rk\u001b[0m\u001b[0;34m(\u001b[0m\u001b[0mstart_points\u001b[0m\u001b[0;34m,\u001b[0m \u001b[0;36m0.001\u001b[0m\u001b[0;34m)\u001b[0m\u001b[0;34m\u001b[0m\u001b[0;34m\u001b[0m\u001b[0m\n\u001b[0m\u001b[1;32m      7\u001b[0m   \u001b[0mprint\u001b[0m\u001b[0;34m(\u001b[0m\u001b[0mnp\u001b[0m\u001b[0;34m.\u001b[0m\u001b[0mlinalg\u001b[0m\u001b[0;34m.\u001b[0m\u001b[0mdet\u001b[0m\u001b[0;34m(\u001b[0m\u001b[0mmatrix_errors\u001b[0m\u001b[0;34m)\u001b[0m\u001b[0;34m)\u001b[0m\u001b[0;34m\u001b[0m\u001b[0;34m\u001b[0m\u001b[0m\n\u001b[1;32m      8\u001b[0m   \u001b[0mcheck\u001b[0m\u001b[0;34m(\u001b[0m\u001b[0mmatrix_errors\u001b[0m\u001b[0;34m)\u001b[0m\u001b[0;34m\u001b[0m\u001b[0;34m\u001b[0m\u001b[0m\n",
            "\u001b[0;32m<ipython-input-605-94cc0927ca0c>\u001b[0m in \u001b[0;36mprocess_rk\u001b[0;34m(start_points, percent)\u001b[0m\n\u001b[1;32m    114\u001b[0m     \u001b[0;32mif\u001b[0m \u001b[0;34m(\u001b[0m\u001b[0mi\u001b[0m \u001b[0;34m==\u001b[0m \u001b[0;36m0\u001b[0m\u001b[0;34m)\u001b[0m\u001b[0;34m:\u001b[0m\u001b[0;34m\u001b[0m\u001b[0;34m\u001b[0m\u001b[0m\n\u001b[1;32m    115\u001b[0m         \u001b[0mcur_error\u001b[0m \u001b[0;34m=\u001b[0m \u001b[0;34m(\u001b[0m\u001b[0mvector_time_0\u001b[0m\u001b[0;34m[\u001b[0m\u001b[0mouters\u001b[0m\u001b[0;34m[\u001b[0m\u001b[0;36m0\u001b[0m\u001b[0;34m]\u001b[0m\u001b[0;34m]\u001b[0m\u001b[0;34m[\u001b[0m\u001b[0;36m0\u001b[0m\u001b[0;34m]\u001b[0m \u001b[0;34m+\u001b[0m \u001b[0;36m0.001\u001b[0m \u001b[0;34m-\u001b[0m \u001b[0;36m40\u001b[0m\u001b[0;34m)\u001b[0m\u001b[0;34m\u001b[0m\u001b[0;34m\u001b[0m\u001b[0m\n\u001b[0;32m--> 116\u001b[0;31m         \u001b[0mmatrix_errors\u001b[0m\u001b[0;34m[\u001b[0m\u001b[0;36m0\u001b[0m\u001b[0;34m]\u001b[0m\u001b[0;34m[\u001b[0m\u001b[0;36m0\u001b[0m\u001b[0;34m]\u001b[0m \u001b[0;34m=\u001b[0m \u001b[0mround\u001b[0m\u001b[0;34m(\u001b[0m\u001b[0;34m(\u001b[0m\u001b[0mcur_error\u001b[0m \u001b[0;34m-\u001b[0m \u001b[0merrors\u001b[0m\u001b[0;34m[\u001b[0m\u001b[0;36m0\u001b[0m\u001b[0;34m]\u001b[0m\u001b[0;34m)\u001b[0m \u001b[0;34m/\u001b[0m \u001b[0;36m0.001\u001b[0m\u001b[0;34m)\u001b[0m\u001b[0;34m\u001b[0m\u001b[0;34m\u001b[0m\u001b[0m\n\u001b[0m\u001b[1;32m    117\u001b[0m         \u001b[0;32mcontinue\u001b[0m\u001b[0;34m\u001b[0m\u001b[0;34m\u001b[0m\u001b[0m\n\u001b[1;32m    118\u001b[0m     \u001b[0;32mfor\u001b[0m \u001b[0mj\u001b[0m \u001b[0;32min\u001b[0m \u001b[0mrange\u001b[0m\u001b[0;34m(\u001b[0m\u001b[0mlen\u001b[0m\u001b[0;34m(\u001b[0m\u001b[0minners\u001b[0m\u001b[0;34m)\u001b[0m \u001b[0;34m+\u001b[0m \u001b[0mlen\u001b[0m\u001b[0;34m(\u001b[0m\u001b[0mouters\u001b[0m\u001b[0;34m)\u001b[0m\u001b[0;34m)\u001b[0m\u001b[0;34m:\u001b[0m\u001b[0;34m\u001b[0m\u001b[0;34m\u001b[0m\u001b[0m\n",
            "\u001b[0;31mValueError\u001b[0m: cannot convert float NaN to integer"
          ]
        }
      ]
    },
    {
      "cell_type": "code",
      "metadata": {
        "colab": {
          "base_uri": "https://localhost:8080/"
        },
        "id": "H3o_cdeYl9u2",
        "outputId": "84d96524-0946-4e37-a5d7-968437a33266"
      },
      "source": [
        "2/ elasticity"
      ],
      "execution_count": null,
      "outputs": [
        {
          "output_type": "execute_result",
          "data": {
            "text/plain": [
              "5.0"
            ]
          },
          "metadata": {
            "tags": []
          },
          "execution_count": 602
        }
      ]
    },
    {
      "cell_type": "code",
      "metadata": {
        "colab": {
          "base_uri": "https://localhost:8080/"
        },
        "id": "ztXesL3xlpJz",
        "outputId": "ddedb8d0-7f4d-4c47-a5f9-42d3b90dad35"
      },
      "source": [
        "matrix_errors[12]"
      ],
      "execution_count": null,
      "outputs": [
        {
          "output_type": "execute_result",
          "data": {
            "text/plain": [
              "array([ 5.        ,  0.18059298, -5.        , -0.47767357,  0.        ,\n",
              "        0.        ,  0.        ,  0.        ,  0.        ,  0.        ,\n",
              "        0.        ,  0.        ,  0.        ,  0.        ,  0.        ,\n",
              "        0.        ,  0.        ,  0.        ,  0.        ,  0.        ,\n",
              "        0.        ,  0.        ,  0.        ,  0.        ,  0.        ,\n",
              "        0.        ,  0.        ,  0.        ,  0.        ,  0.        ,\n",
              "        0.        ,  0.        ])"
            ]
          },
          "metadata": {
            "tags": []
          },
          "execution_count": 603
        }
      ]
    },
    {
      "cell_type": "code",
      "metadata": {
        "id": "RNhO9kWufmTD"
      },
      "source": [
        "from decimal import *"
      ],
      "execution_count": null,
      "outputs": []
    },
    {
      "cell_type": "code",
      "metadata": {
        "colab": {
          "base_uri": "https://localhost:8080/"
        },
        "id": "e4uxPQLGeNfo",
        "outputId": "dad6c1c7-7e84-4aa6-df7e-c76444eec94c"
      },
      "source": [
        "print(Decimal(2/ elasticity))\n",
        "print()\n",
        "for i in range(len(matrix_errors[12])):\n",
        "  print(Decimal(matrix_errors[12][i]))"
      ],
      "execution_count": null,
      "outputs": [
        {
          "output_type": "stream",
          "text": [
            "0.0000500000000000000023960868011929647991564706899225711822509765625\n",
            "\n",
            "0.00004950495049275602764404791145125273033045232295989990234375\n",
            "10.6644228559684233204052361543290317058563232421875\n",
            "-0.00004950495049339009617957174658187113891472108662128448486328125\n",
            "-47.69911635578163355830838554538786411285400390625\n",
            "0\n",
            "0\n",
            "0\n",
            "0\n",
            "0\n",
            "0\n",
            "0\n",
            "0\n",
            "0\n",
            "0\n",
            "0\n",
            "0\n",
            "0\n",
            "0\n",
            "0\n",
            "0\n",
            "0\n",
            "0\n",
            "0\n",
            "0\n",
            "0\n",
            "0\n",
            "0\n",
            "0\n",
            "0\n",
            "0\n",
            "0\n",
            "0\n"
          ],
          "name": "stdout"
        }
      ]
    },
    {
      "cell_type": "markdown",
      "metadata": {
        "id": "hk03fDpD69Wk"
      },
      "source": [
        "# Other"
      ]
    },
    {
      "cell_type": "code",
      "metadata": {
        "colab": {
          "base_uri": "https://localhost:8080/"
        },
        "id": "CYQHWh3Hfvo7",
        "outputId": "54448e24-f762-4ae2-b132-c3f9a69e4010"
      },
      "source": [
        "u, s, v = np.linalg.svd(matrix_errors)\n",
        "for i in range(len(s)):\n",
        "  print('{0:.15f}'.format(s[i]))"
      ],
      "execution_count": null,
      "outputs": [
        {
          "output_type": "stream",
          "text": [
            "31195990.873348236083984\n",
            "22308960.132916852831841\n",
            "22296615.854230765253305\n",
            "22234010.230901177972555\n",
            "34132.495193135349837\n",
            "14934.852016418082712\n",
            "12101.990586609113961\n",
            "1935.213590119557466\n",
            "1798.808114553819451\n",
            "1752.109883602254513\n",
            "1035.894091281401415\n",
            "1020.038191673559368\n",
            "881.888259657723552\n",
            "514.041978234301610\n",
            "477.264830519055067\n",
            "470.024310841465706\n",
            "329.591165973432680\n",
            "97.681225464862209\n",
            "75.837755050778242\n",
            "12.166448892804322\n",
            "3.629635597171988\n",
            "0.852755389922778\n",
            "0.772541729143563\n",
            "0.461827908409017\n",
            "0.274080301320690\n",
            "0.266633237975338\n",
            "0.230640725013752\n",
            "0.109275102185491\n",
            "0.070989446887975\n",
            "0.017787907718038\n",
            "0.000002218841747\n",
            "0.000001646265117\n"
          ],
          "name": "stdout"
        }
      ]
    },
    {
      "cell_type": "code",
      "metadata": {
        "id": "ZSDiDa8SPewn"
      },
      "source": [
        "mat = np.matrix(matrix_errors)"
      ],
      "execution_count": null,
      "outputs": []
    },
    {
      "cell_type": "code",
      "metadata": {
        "colab": {
          "base_uri": "https://localhost:8080/"
        },
        "id": "gbURbOzwVqbO",
        "outputId": "3d6a9aa6-b109-4cbf-d28c-7ba70aefc8ce"
      },
      "source": [
        "\n",
        "np.sum(mat, axis=1)"
      ],
      "execution_count": null,
      "outputs": [
        {
          "output_type": "execute_result",
          "data": {
            "text/plain": [
              "matrix([[-3.94123059e+04],\n",
              "        [ 1.36872471e+03],\n",
              "        [ 2.50592831e+03],\n",
              "        [ 1.41117480e+03],\n",
              "        [-1.36447366e+02],\n",
              "        [ 4.42837762e+02],\n",
              "        [ 5.41876219e+02],\n",
              "        [-6.33798961e+02],\n",
              "        [-1.17219443e+03],\n",
              "        [ 2.35090201e+03],\n",
              "        [ 2.59671244e+03],\n",
              "        [-9.04852219e+02],\n",
              "        [-2.54458798e-01],\n",
              "        [-6.54260513e-03],\n",
              "        [ 3.33728691e-01],\n",
              "        [-1.00201127e+04],\n",
              "        [ 3.12632477e-02],\n",
              "        [-8.11996995e+03],\n",
              "        [-1.10720694e+04],\n",
              "        [-8.97148021e+03],\n",
              "        [-1.03042066e+01],\n",
              "        [-8.51539694e-01],\n",
              "        [-4.54468520e+01],\n",
              "        [-2.19334047e+00],\n",
              "        [-8.41324520e+01],\n",
              "        [-3.98567417e-01],\n",
              "        [-1.85960932e-01],\n",
              "        [-2.39179910e-01],\n",
              "        [ 6.23919693e+07],\n",
              "        [-4.46179202e+07],\n",
              "        [-4.45932317e+07],\n",
              "        [-4.44680205e+07]])"
            ]
          },
          "metadata": {
            "tags": []
          },
          "execution_count": 35
        }
      ]
    },
    {
      "cell_type": "code",
      "metadata": {
        "id": "lLR5GYkzT7NI"
      },
      "source": [
        "transpose = mat.T\n",
        "for i in range(len(mat)):\n",
        "  if (np.sum(transpose[i]) == 0):\n",
        "    print(i)"
      ],
      "execution_count": null,
      "outputs": []
    },
    {
      "cell_type": "code",
      "metadata": {
        "colab": {
          "base_uri": "https://localhost:8080/"
        },
        "id": "Jhxy-0hwPjsb",
        "outputId": "b4312ac2-6a32-4a7a-fdab-5102eb285467"
      },
      "source": [
        "print(transpose[7])\n",
        "print(transpose[11]) # 3 and 5 potoki "
      ],
      "execution_count": null,
      "outputs": [
        {
          "output_type": "stream",
          "text": [
            "[[ 0.          0.          0.          0.          0.          0.\n",
            "   0.          0.          0.          0.          0.          0.\n",
            "   0.          0.         -0.21072043  0.          0.          0.\n",
            "   0.          0.          0.          0.          0.          0.\n",
            "   0.          0.          0.          0.          0.          0.\n",
            "   0.          0.        ]]\n",
            "[[ 0.          0.          0.          0.          0.          0.\n",
            "   0.          0.          0.          0.          0.          0.\n",
            "   0.          0.          0.          0.         -0.14340772  0.\n",
            "   0.          0.          0.          0.          0.          0.\n",
            "   0.          0.          0.          0.          0.          0.\n",
            "   0.          0.        ]]\n"
          ],
          "name": "stdout"
        }
      ]
    },
    {
      "cell_type": "code",
      "metadata": {
        "id": "1Lv2R-2ga3Lx"
      },
      "source": [
        ""
      ],
      "execution_count": null,
      "outputs": []
    }
  ]
}